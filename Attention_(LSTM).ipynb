{
  "cells": [
    {
      "cell_type": "markdown",
      "metadata": {
        "id": "fwPL0hIlGKoA"
      },
      "source": [
        "# <font color='red'>**Transformer implementation**</font>"
      ]
    },
    {
      "cell_type": "markdown",
      "metadata": {
        "id": "3k_AlAuKJqVA"
      },
      "source": [
        "<font color='blue'>**Load the data**</font>"
      ]
    },
    {
      "cell_type": "code",
      "execution_count": null,
      "metadata": {
        "id": "Li2ASIA5NfmC"
      },
      "outputs": [],
      "source": [
        "import pandas as pd\n",
        "import numpy as np\n",
        "import re"
      ]
    },
    {
      "cell_type": "code",
      "execution_count": null,
      "metadata": {
        "id": "T5egwYsoNgpJ"
      },
      "outputs": [],
      "source": [
        "def decontractions(phrase):\n",
        "    \"\"\"decontracted takes text and convert contractions into natural form.\n",
        "     ref: https://stackoverflow.com/questions/19790188/expanding-english-language-contractions-in-python/47091490#47091490\"\"\"\n",
        "    # specific\n",
        "    phrase = re.sub(r\"won\\'t\", \"will not\", phrase)\n",
        "    phrase = re.sub(r\"can\\'t\", \"can not\", phrase)\n",
        "    phrase = re.sub(r\"won\\’t\", \"will not\", phrase)\n",
        "    phrase = re.sub(r\"can\\’t\", \"can not\", phrase)\n",
        "\n",
        "    # general\n",
        "    phrase = re.sub(r\"n\\'t\", \" not\", phrase)\n",
        "    phrase = re.sub(r\"\\'re\", \" are\", phrase)\n",
        "    phrase = re.sub(r\"\\'s\", \" is\", phrase)\n",
        "    phrase = re.sub(r\"\\'d\", \" would\", phrase)\n",
        "    phrase = re.sub(r\"\\'ll\", \" will\", phrase)\n",
        "    phrase = re.sub(r\"\\'t\", \" not\", phrase)\n",
        "    phrase = re.sub(r\"\\'ve\", \" have\", phrase)\n",
        "    phrase = re.sub(r\"\\'m\", \" am\", phrase)\n",
        "\n",
        "    phrase = re.sub(r\"n\\’t\", \" not\", phrase)\n",
        "    phrase = re.sub(r\"\\’re\", \" are\", phrase)\n",
        "    phrase = re.sub(r\"\\’s\", \" is\", phrase)\n",
        "    phrase = re.sub(r\"\\’d\", \" would\", phrase)\n",
        "    phrase = re.sub(r\"\\’ll\", \" will\", phrase)\n",
        "    phrase = re.sub(r\"\\’t\", \" not\", phrase)\n",
        "    phrase = re.sub(r\"\\’ve\", \" have\", phrase)\n",
        "    phrase = re.sub(r\"\\’m\", \" am\", phrase)\n",
        "\n",
        "    return phrase\n",
        "\n",
        "def preprocess(text):\n",
        "    # convert all the text into lower letters\n",
        "    # use this function to remove the contractions: https://gist.github.com/anandborad/d410a49a493b56dace4f814ab5325bbd\n",
        "    # remove all the spacial characters: except space ' '\n",
        "    text = text.lower()\n",
        "    text = decontractions(text)\n",
        "    text = re.sub('[^A-Za-z0-9 ]+', '', text)\n",
        "    text = text.split()\n",
        "    text = \" \".join(text)\n",
        "    return text\n",
        "\n"
      ]
    },
    {
      "cell_type": "code",
      "source": [
        "from google.colab import drive\n",
        "drive.mount('/content/drive')"
      ],
      "metadata": {
        "colab": {
          "base_uri": "https://localhost:8080/"
        },
        "id": "EwXoruZOODG_",
        "outputId": "a0a53bda-4302-48df-e888-73af0f914454"
      },
      "execution_count": null,
      "outputs": [
        {
          "output_type": "stream",
          "name": "stdout",
          "text": [
            "Mounted at /content/drive\n"
          ]
        }
      ]
    },
    {
      "cell_type": "code",
      "source": [
        "import pickle\n",
        "data = pickle.load(open('/content/drive/MyDrive/Case Study2/data','rb'))"
      ],
      "metadata": {
        "id": "I3CCcw-a3KXV"
      },
      "execution_count": null,
      "outputs": []
    },
    {
      "cell_type": "code",
      "source": [
        "data"
      ],
      "metadata": {
        "colab": {
          "base_uri": "https://localhost:8080/",
          "height": 69
        },
        "id": "G2JWRN5V54cD",
        "outputId": "108a7b2c-b3fb-4778-e5f4-a3956fe2a203"
      },
      "execution_count": null,
      "outputs": [
        {
          "output_type": "execute_result",
          "data": {
            "text/plain": [
              "       enc_gen                                            enc_inp  \\\n",
              "0            f  Can we make this quick?  Roxanne Korrine and A...   \n",
              "1            m  Well, I thought we'd start with pronunciation,...   \n",
              "2            f  Not the hacking and gagging and spitting part....   \n",
              "3            f  You're asking me out.  That's so cute. What's ...   \n",
              "4            f  No, no, it's my fault -- we didn't have a prop...   \n",
              "...        ...                                                ...   \n",
              "221611  gender                           Your orders, Mr Vereker?   \n",
              "221612  gender  I'm to take the Sikali with the main column to...   \n",
              "221613  gender  Lord Chelmsford seems to want me to stay back ...   \n",
              "221614  gender  Well I assure you, Sir, I have no desire to cr...   \n",
              "221615  gender  And I assure you, you do not In fact I'd be ob...   \n",
              "\n",
              "                                                  dec_inp dec_gen  \n",
              "0       Well, I thought we'd start with pronunciation,...       m  \n",
              "1       Not the hacking and gagging and spitting part....       f  \n",
              "2       Okay... then how 'bout we try out some French ...       m  \n",
              "3                                              Forget it.       m  \n",
              "4                                                Cameron.       m  \n",
              "...                                                   ...     ...  \n",
              "221611  I'm to take the Sikali with the main column to...  gender  \n",
              "221612  Lord Chelmsford seems to want me to stay back ...  gender  \n",
              "221613  I think Chelmsford wants a good man on the bor...  gender  \n",
              "221614  And I assure you, you do not In fact I'd be ob...  gender  \n",
              "221615  So far only their scouts. But we have had repo...  gender  \n",
              "\n",
              "[221616 rows x 4 columns]"
            ],
            "text/html": [
              "\n",
              "  <div id=\"df-e1b3bb8a-0c95-416b-8172-6349078e0c89\">\n",
              "    <div class=\"colab-df-container\">\n",
              "      <div>\n",
              "<style scoped>\n",
              "    .dataframe tbody tr th:only-of-type {\n",
              "        vertical-align: middle;\n",
              "    }\n",
              "\n",
              "    .dataframe tbody tr th {\n",
              "        vertical-align: top;\n",
              "    }\n",
              "\n",
              "    .dataframe thead th {\n",
              "        text-align: right;\n",
              "    }\n",
              "</style>\n",
              "<table border=\"1\" class=\"dataframe\">\n",
              "  <thead>\n",
              "    <tr style=\"text-align: right;\">\n",
              "      <th></th>\n",
              "      <th>enc_gen</th>\n",
              "      <th>enc_inp</th>\n",
              "      <th>dec_inp</th>\n",
              "      <th>dec_gen</th>\n",
              "    </tr>\n",
              "  </thead>\n",
              "  <tbody>\n",
              "    <tr>\n",
              "      <th>0</th>\n",
              "      <td>f</td>\n",
              "      <td>Can we make this quick?  Roxanne Korrine and A...</td>\n",
              "      <td>Well, I thought we'd start with pronunciation,...</td>\n",
              "      <td>m</td>\n",
              "    </tr>\n",
              "    <tr>\n",
              "      <th>1</th>\n",
              "      <td>m</td>\n",
              "      <td>Well, I thought we'd start with pronunciation,...</td>\n",
              "      <td>Not the hacking and gagging and spitting part....</td>\n",
              "      <td>f</td>\n",
              "    </tr>\n",
              "    <tr>\n",
              "      <th>2</th>\n",
              "      <td>f</td>\n",
              "      <td>Not the hacking and gagging and spitting part....</td>\n",
              "      <td>Okay... then how 'bout we try out some French ...</td>\n",
              "      <td>m</td>\n",
              "    </tr>\n",
              "    <tr>\n",
              "      <th>3</th>\n",
              "      <td>f</td>\n",
              "      <td>You're asking me out.  That's so cute. What's ...</td>\n",
              "      <td>Forget it.</td>\n",
              "      <td>m</td>\n",
              "    </tr>\n",
              "    <tr>\n",
              "      <th>4</th>\n",
              "      <td>f</td>\n",
              "      <td>No, no, it's my fault -- we didn't have a prop...</td>\n",
              "      <td>Cameron.</td>\n",
              "      <td>m</td>\n",
              "    </tr>\n",
              "    <tr>\n",
              "      <th>...</th>\n",
              "      <td>...</td>\n",
              "      <td>...</td>\n",
              "      <td>...</td>\n",
              "      <td>...</td>\n",
              "    </tr>\n",
              "    <tr>\n",
              "      <th>221611</th>\n",
              "      <td>gender</td>\n",
              "      <td>Your orders, Mr Vereker?</td>\n",
              "      <td>I'm to take the Sikali with the main column to...</td>\n",
              "      <td>gender</td>\n",
              "    </tr>\n",
              "    <tr>\n",
              "      <th>221612</th>\n",
              "      <td>gender</td>\n",
              "      <td>I'm to take the Sikali with the main column to...</td>\n",
              "      <td>Lord Chelmsford seems to want me to stay back ...</td>\n",
              "      <td>gender</td>\n",
              "    </tr>\n",
              "    <tr>\n",
              "      <th>221613</th>\n",
              "      <td>gender</td>\n",
              "      <td>Lord Chelmsford seems to want me to stay back ...</td>\n",
              "      <td>I think Chelmsford wants a good man on the bor...</td>\n",
              "      <td>gender</td>\n",
              "    </tr>\n",
              "    <tr>\n",
              "      <th>221614</th>\n",
              "      <td>gender</td>\n",
              "      <td>Well I assure you, Sir, I have no desire to cr...</td>\n",
              "      <td>And I assure you, you do not In fact I'd be ob...</td>\n",
              "      <td>gender</td>\n",
              "    </tr>\n",
              "    <tr>\n",
              "      <th>221615</th>\n",
              "      <td>gender</td>\n",
              "      <td>And I assure you, you do not In fact I'd be ob...</td>\n",
              "      <td>So far only their scouts. But we have had repo...</td>\n",
              "      <td>gender</td>\n",
              "    </tr>\n",
              "  </tbody>\n",
              "</table>\n",
              "<p>221616 rows × 4 columns</p>\n",
              "</div>\n",
              "      <button class=\"colab-df-convert\" onclick=\"convertToInteractive('df-e1b3bb8a-0c95-416b-8172-6349078e0c89')\"\n",
              "              title=\"Convert this dataframe to an interactive table.\"\n",
              "              style=\"display:none;\">\n",
              "        \n",
              "  <svg xmlns=\"http://www.w3.org/2000/svg\" height=\"24px\"viewBox=\"0 0 24 24\"\n",
              "       width=\"24px\">\n",
              "    <path d=\"M0 0h24v24H0V0z\" fill=\"none\"/>\n",
              "    <path d=\"M18.56 5.44l.94 2.06.94-2.06 2.06-.94-2.06-.94-.94-2.06-.94 2.06-2.06.94zm-11 1L8.5 8.5l.94-2.06 2.06-.94-2.06-.94L8.5 2.5l-.94 2.06-2.06.94zm10 10l.94 2.06.94-2.06 2.06-.94-2.06-.94-.94-2.06-.94 2.06-2.06.94z\"/><path d=\"M17.41 7.96l-1.37-1.37c-.4-.4-.92-.59-1.43-.59-.52 0-1.04.2-1.43.59L10.3 9.45l-7.72 7.72c-.78.78-.78 2.05 0 2.83L4 21.41c.39.39.9.59 1.41.59.51 0 1.02-.2 1.41-.59l7.78-7.78 2.81-2.81c.8-.78.8-2.07 0-2.86zM5.41 20L4 18.59l7.72-7.72 1.47 1.35L5.41 20z\"/>\n",
              "  </svg>\n",
              "      </button>\n",
              "      \n",
              "  <style>\n",
              "    .colab-df-container {\n",
              "      display:flex;\n",
              "      flex-wrap:wrap;\n",
              "      gap: 12px;\n",
              "    }\n",
              "\n",
              "    .colab-df-convert {\n",
              "      background-color: #E8F0FE;\n",
              "      border: none;\n",
              "      border-radius: 50%;\n",
              "      cursor: pointer;\n",
              "      display: none;\n",
              "      fill: #1967D2;\n",
              "      height: 32px;\n",
              "      padding: 0 0 0 0;\n",
              "      width: 32px;\n",
              "    }\n",
              "\n",
              "    .colab-df-convert:hover {\n",
              "      background-color: #E2EBFA;\n",
              "      box-shadow: 0px 1px 2px rgba(60, 64, 67, 0.3), 0px 1px 3px 1px rgba(60, 64, 67, 0.15);\n",
              "      fill: #174EA6;\n",
              "    }\n",
              "\n",
              "    [theme=dark] .colab-df-convert {\n",
              "      background-color: #3B4455;\n",
              "      fill: #D2E3FC;\n",
              "    }\n",
              "\n",
              "    [theme=dark] .colab-df-convert:hover {\n",
              "      background-color: #434B5C;\n",
              "      box-shadow: 0px 1px 3px 1px rgba(0, 0, 0, 0.15);\n",
              "      filter: drop-shadow(0px 1px 2px rgba(0, 0, 0, 0.3));\n",
              "      fill: #FFFFFF;\n",
              "    }\n",
              "  </style>\n",
              "\n",
              "      <script>\n",
              "        const buttonEl =\n",
              "          document.querySelector('#df-e1b3bb8a-0c95-416b-8172-6349078e0c89 button.colab-df-convert');\n",
              "        buttonEl.style.display =\n",
              "          google.colab.kernel.accessAllowed ? 'block' : 'none';\n",
              "\n",
              "        async function convertToInteractive(key) {\n",
              "          const element = document.querySelector('#df-e1b3bb8a-0c95-416b-8172-6349078e0c89');\n",
              "          const dataTable =\n",
              "            await google.colab.kernel.invokeFunction('convertToInteractive',\n",
              "                                                     [key], {});\n",
              "          if (!dataTable) return;\n",
              "\n",
              "          const docLinkHtml = 'Like what you see? Visit the ' +\n",
              "            '<a target=\"_blank\" href=https://colab.research.google.com/notebooks/data_table.ipynb>data table notebook</a>'\n",
              "            + ' to learn more about interactive tables.';\n",
              "          element.innerHTML = '';\n",
              "          dataTable['output_type'] = 'display_data';\n",
              "          await google.colab.output.renderOutput(dataTable, element);\n",
              "          const docLink = document.createElement('div');\n",
              "          docLink.innerHTML = docLinkHtml;\n",
              "          element.appendChild(docLink);\n",
              "        }\n",
              "      </script>\n",
              "    </div>\n",
              "  </div>\n",
              "  "
            ]
          },
          "metadata": {},
          "execution_count": 24
        },
        {
          "output_type": "stream",
          "name": "stdout",
          "text": [
            "Error: Runtime no longer has a reference to this dataframe, please re-run this cell and try again.\n"
          ]
        }
      ]
    },
    {
      "cell_type": "code",
      "source": [
        "#Preprocessing the Data dataframe\n",
        "data['enc_inp'] = data['enc_inp'].apply(preprocess)\n",
        "data['dec_inp'] = data['dec_inp'].apply(preprocess)\n",
        "data.head()"
      ],
      "metadata": {
        "colab": {
          "base_uri": "https://localhost:8080/",
          "height": 69
        },
        "id": "G06YpOyV53kz",
        "outputId": "324ece01-deb6-4857-acd4-bb82ba784aeb"
      },
      "execution_count": null,
      "outputs": [
        {
          "output_type": "execute_result",
          "data": {
            "text/plain": [
              "  enc_gen                                            enc_inp  \\\n",
              "0       f  can we make this quick roxanne korrine and and...   \n",
              "1       m  well i thought we would start with pronunciati...   \n",
              "2       f  not the hacking and gagging and spitting part ...   \n",
              "3       f  you are asking me out that is so cute what is ...   \n",
              "4       f  no no it is my fault we did not have a proper ...   \n",
              "\n",
              "                                             dec_inp dec_gen  \n",
              "0  well i thought we would start with pronunciati...       m  \n",
              "1  not the hacking and gagging and spitting part ...       f  \n",
              "2  okay then how bout we try out some french cuis...       m  \n",
              "3                                          forget it       m  \n",
              "4                                            cameron       m  "
            ],
            "text/html": [
              "\n",
              "  <div id=\"df-cf6cac0c-540a-47c2-af9b-ed58c79b9c8b\">\n",
              "    <div class=\"colab-df-container\">\n",
              "      <div>\n",
              "<style scoped>\n",
              "    .dataframe tbody tr th:only-of-type {\n",
              "        vertical-align: middle;\n",
              "    }\n",
              "\n",
              "    .dataframe tbody tr th {\n",
              "        vertical-align: top;\n",
              "    }\n",
              "\n",
              "    .dataframe thead th {\n",
              "        text-align: right;\n",
              "    }\n",
              "</style>\n",
              "<table border=\"1\" class=\"dataframe\">\n",
              "  <thead>\n",
              "    <tr style=\"text-align: right;\">\n",
              "      <th></th>\n",
              "      <th>enc_gen</th>\n",
              "      <th>enc_inp</th>\n",
              "      <th>dec_inp</th>\n",
              "      <th>dec_gen</th>\n",
              "    </tr>\n",
              "  </thead>\n",
              "  <tbody>\n",
              "    <tr>\n",
              "      <th>0</th>\n",
              "      <td>f</td>\n",
              "      <td>can we make this quick roxanne korrine and and...</td>\n",
              "      <td>well i thought we would start with pronunciati...</td>\n",
              "      <td>m</td>\n",
              "    </tr>\n",
              "    <tr>\n",
              "      <th>1</th>\n",
              "      <td>m</td>\n",
              "      <td>well i thought we would start with pronunciati...</td>\n",
              "      <td>not the hacking and gagging and spitting part ...</td>\n",
              "      <td>f</td>\n",
              "    </tr>\n",
              "    <tr>\n",
              "      <th>2</th>\n",
              "      <td>f</td>\n",
              "      <td>not the hacking and gagging and spitting part ...</td>\n",
              "      <td>okay then how bout we try out some french cuis...</td>\n",
              "      <td>m</td>\n",
              "    </tr>\n",
              "    <tr>\n",
              "      <th>3</th>\n",
              "      <td>f</td>\n",
              "      <td>you are asking me out that is so cute what is ...</td>\n",
              "      <td>forget it</td>\n",
              "      <td>m</td>\n",
              "    </tr>\n",
              "    <tr>\n",
              "      <th>4</th>\n",
              "      <td>f</td>\n",
              "      <td>no no it is my fault we did not have a proper ...</td>\n",
              "      <td>cameron</td>\n",
              "      <td>m</td>\n",
              "    </tr>\n",
              "  </tbody>\n",
              "</table>\n",
              "</div>\n",
              "      <button class=\"colab-df-convert\" onclick=\"convertToInteractive('df-cf6cac0c-540a-47c2-af9b-ed58c79b9c8b')\"\n",
              "              title=\"Convert this dataframe to an interactive table.\"\n",
              "              style=\"display:none;\">\n",
              "        \n",
              "  <svg xmlns=\"http://www.w3.org/2000/svg\" height=\"24px\"viewBox=\"0 0 24 24\"\n",
              "       width=\"24px\">\n",
              "    <path d=\"M0 0h24v24H0V0z\" fill=\"none\"/>\n",
              "    <path d=\"M18.56 5.44l.94 2.06.94-2.06 2.06-.94-2.06-.94-.94-2.06-.94 2.06-2.06.94zm-11 1L8.5 8.5l.94-2.06 2.06-.94-2.06-.94L8.5 2.5l-.94 2.06-2.06.94zm10 10l.94 2.06.94-2.06 2.06-.94-2.06-.94-.94-2.06-.94 2.06-2.06.94z\"/><path d=\"M17.41 7.96l-1.37-1.37c-.4-.4-.92-.59-1.43-.59-.52 0-1.04.2-1.43.59L10.3 9.45l-7.72 7.72c-.78.78-.78 2.05 0 2.83L4 21.41c.39.39.9.59 1.41.59.51 0 1.02-.2 1.41-.59l7.78-7.78 2.81-2.81c.8-.78.8-2.07 0-2.86zM5.41 20L4 18.59l7.72-7.72 1.47 1.35L5.41 20z\"/>\n",
              "  </svg>\n",
              "      </button>\n",
              "      \n",
              "  <style>\n",
              "    .colab-df-container {\n",
              "      display:flex;\n",
              "      flex-wrap:wrap;\n",
              "      gap: 12px;\n",
              "    }\n",
              "\n",
              "    .colab-df-convert {\n",
              "      background-color: #E8F0FE;\n",
              "      border: none;\n",
              "      border-radius: 50%;\n",
              "      cursor: pointer;\n",
              "      display: none;\n",
              "      fill: #1967D2;\n",
              "      height: 32px;\n",
              "      padding: 0 0 0 0;\n",
              "      width: 32px;\n",
              "    }\n",
              "\n",
              "    .colab-df-convert:hover {\n",
              "      background-color: #E2EBFA;\n",
              "      box-shadow: 0px 1px 2px rgba(60, 64, 67, 0.3), 0px 1px 3px 1px rgba(60, 64, 67, 0.15);\n",
              "      fill: #174EA6;\n",
              "    }\n",
              "\n",
              "    [theme=dark] .colab-df-convert {\n",
              "      background-color: #3B4455;\n",
              "      fill: #D2E3FC;\n",
              "    }\n",
              "\n",
              "    [theme=dark] .colab-df-convert:hover {\n",
              "      background-color: #434B5C;\n",
              "      box-shadow: 0px 1px 3px 1px rgba(0, 0, 0, 0.15);\n",
              "      filter: drop-shadow(0px 1px 2px rgba(0, 0, 0, 0.3));\n",
              "      fill: #FFFFFF;\n",
              "    }\n",
              "  </style>\n",
              "\n",
              "      <script>\n",
              "        const buttonEl =\n",
              "          document.querySelector('#df-cf6cac0c-540a-47c2-af9b-ed58c79b9c8b button.colab-df-convert');\n",
              "        buttonEl.style.display =\n",
              "          google.colab.kernel.accessAllowed ? 'block' : 'none';\n",
              "\n",
              "        async function convertToInteractive(key) {\n",
              "          const element = document.querySelector('#df-cf6cac0c-540a-47c2-af9b-ed58c79b9c8b');\n",
              "          const dataTable =\n",
              "            await google.colab.kernel.invokeFunction('convertToInteractive',\n",
              "                                                     [key], {});\n",
              "          if (!dataTable) return;\n",
              "\n",
              "          const docLinkHtml = 'Like what you see? Visit the ' +\n",
              "            '<a target=\"_blank\" href=https://colab.research.google.com/notebooks/data_table.ipynb>data table notebook</a>'\n",
              "            + ' to learn more about interactive tables.';\n",
              "          element.innerHTML = '';\n",
              "          dataTable['output_type'] = 'display_data';\n",
              "          await google.colab.output.renderOutput(dataTable, element);\n",
              "          const docLink = document.createElement('div');\n",
              "          docLink.innerHTML = docLinkHtml;\n",
              "          element.appendChild(docLink);\n",
              "        }\n",
              "      </script>\n",
              "    </div>\n",
              "  </div>\n",
              "  "
            ]
          },
          "metadata": {},
          "execution_count": 25
        },
        {
          "output_type": "stream",
          "name": "stdout",
          "text": [
            "Error: Runtime no longer has a reference to this dataframe, please re-run this cell and try again.\n"
          ]
        }
      ]
    },
    {
      "cell_type": "code",
      "source": [
        "data['enc_inp_len'] = data['enc_inp'].str.split().apply(len)\n",
        "data = data.loc[(data['enc_inp_len'] <= 20 ) & (data['enc_inp_len'] > 2)]\n",
        "\n",
        "data['dec_inp_len'] = data['dec_inp'].str.split().apply(len)\n",
        "data = data.loc[(data['dec_inp_len'] <= 20) & (data['dec_inp_len'] > 2)]"
      ],
      "metadata": {
        "colab": {
          "base_uri": "https://localhost:8080/"
        },
        "id": "hgmBjECE6YLa",
        "outputId": "feadbe0f-179e-488d-b028-c5d40367bf23"
      },
      "execution_count": null,
      "outputs": [
        {
          "output_type": "stream",
          "name": "stderr",
          "text": [
            "/usr/local/lib/python3.7/dist-packages/ipykernel_launcher.py:4: SettingWithCopyWarning: \n",
            "A value is trying to be set on a copy of a slice from a DataFrame.\n",
            "Try using .loc[row_indexer,col_indexer] = value instead\n",
            "\n",
            "See the caveats in the documentation: https://pandas.pydata.org/pandas-docs/stable/user_guide/indexing.html#returning-a-view-versus-a-copy\n",
            "  after removing the cwd from sys.path.\n"
          ]
        }
      ]
    },
    {
      "cell_type": "code",
      "source": [
        "preprocess_data = data\n",
        "preprocess_data.to_pickle('/content/drive/MyDrive/Case Study2/preprocess_data')"
      ],
      "metadata": {
        "id": "nHdIujb93crd"
      },
      "execution_count": null,
      "outputs": []
    },
    {
      "cell_type": "code",
      "source": [
        "del data"
      ],
      "metadata": {
        "id": "qmCcy1Ed7WQ3"
      },
      "execution_count": null,
      "outputs": []
    },
    {
      "cell_type": "code",
      "source": [
        "preprocess_data['dec_input'] = '<start> ' + preprocess_data['dec_inp'].astype(str)\n",
        "preprocess_data['dec_output'] = preprocess_data['dec_inp'].astype(str) + ' <end>'\n",
        "\n",
        "\n",
        "preprocess_data = preprocess_data.drop(['dec_inp','dec_inp_len','enc_inp_len'], axis=1)\n",
        "preprocess_data.head()"
      ],
      "metadata": {
        "colab": {
          "base_uri": "https://localhost:8080/",
          "height": 215
        },
        "id": "U4AbVP0b6K1s",
        "outputId": "f99abaa4-9975-4768-c86c-f5572acc310d"
      },
      "execution_count": null,
      "outputs": [
        {
          "output_type": "execute_result",
          "data": {
            "text/plain": [
              "   enc_gen                                            enc_inp dec_gen  \\\n",
              "1        m  well i thought we would start with pronunciati...       f   \n",
              "2        f  not the hacking and gagging and spitting part ...       m   \n",
              "9        f         gosh if only we could find kat a boyfriend       m   \n",
              "10       f                       cesc ma tete this is my head       m   \n",
              "14       f  how is our little find the wench a date plan p...       m   \n",
              "\n",
              "                                            dec_input  \\\n",
              "1   <start> not the hacking and gagging and spitti...   \n",
              "2   <start> okay then how bout we try out some fre...   \n",
              "9                    <start> let me see what i can do   \n",
              "10       <start> right see you are ready for the quiz   \n",
              "14     <start> well there is someone i think might be   \n",
              "\n",
              "                                           dec_output  \n",
              "1   not the hacking and gagging and spitting part ...  \n",
              "2   okay then how bout we try out some french cuis...  \n",
              "9                      let me see what i can do <end>  \n",
              "10         right see you are ready for the quiz <end>  \n",
              "14       well there is someone i think might be <end>  "
            ],
            "text/html": [
              "\n",
              "  <div id=\"df-ab2b1ab8-5423-45d5-9613-79dea393f9c4\">\n",
              "    <div class=\"colab-df-container\">\n",
              "      <div>\n",
              "<style scoped>\n",
              "    .dataframe tbody tr th:only-of-type {\n",
              "        vertical-align: middle;\n",
              "    }\n",
              "\n",
              "    .dataframe tbody tr th {\n",
              "        vertical-align: top;\n",
              "    }\n",
              "\n",
              "    .dataframe thead th {\n",
              "        text-align: right;\n",
              "    }\n",
              "</style>\n",
              "<table border=\"1\" class=\"dataframe\">\n",
              "  <thead>\n",
              "    <tr style=\"text-align: right;\">\n",
              "      <th></th>\n",
              "      <th>enc_gen</th>\n",
              "      <th>enc_inp</th>\n",
              "      <th>dec_gen</th>\n",
              "      <th>dec_input</th>\n",
              "      <th>dec_output</th>\n",
              "    </tr>\n",
              "  </thead>\n",
              "  <tbody>\n",
              "    <tr>\n",
              "      <th>1</th>\n",
              "      <td>m</td>\n",
              "      <td>well i thought we would start with pronunciati...</td>\n",
              "      <td>f</td>\n",
              "      <td>&lt;start&gt; not the hacking and gagging and spitti...</td>\n",
              "      <td>not the hacking and gagging and spitting part ...</td>\n",
              "    </tr>\n",
              "    <tr>\n",
              "      <th>2</th>\n",
              "      <td>f</td>\n",
              "      <td>not the hacking and gagging and spitting part ...</td>\n",
              "      <td>m</td>\n",
              "      <td>&lt;start&gt; okay then how bout we try out some fre...</td>\n",
              "      <td>okay then how bout we try out some french cuis...</td>\n",
              "    </tr>\n",
              "    <tr>\n",
              "      <th>9</th>\n",
              "      <td>f</td>\n",
              "      <td>gosh if only we could find kat a boyfriend</td>\n",
              "      <td>m</td>\n",
              "      <td>&lt;start&gt; let me see what i can do</td>\n",
              "      <td>let me see what i can do &lt;end&gt;</td>\n",
              "    </tr>\n",
              "    <tr>\n",
              "      <th>10</th>\n",
              "      <td>f</td>\n",
              "      <td>cesc ma tete this is my head</td>\n",
              "      <td>m</td>\n",
              "      <td>&lt;start&gt; right see you are ready for the quiz</td>\n",
              "      <td>right see you are ready for the quiz &lt;end&gt;</td>\n",
              "    </tr>\n",
              "    <tr>\n",
              "      <th>14</th>\n",
              "      <td>f</td>\n",
              "      <td>how is our little find the wench a date plan p...</td>\n",
              "      <td>m</td>\n",
              "      <td>&lt;start&gt; well there is someone i think might be</td>\n",
              "      <td>well there is someone i think might be &lt;end&gt;</td>\n",
              "    </tr>\n",
              "  </tbody>\n",
              "</table>\n",
              "</div>\n",
              "      <button class=\"colab-df-convert\" onclick=\"convertToInteractive('df-ab2b1ab8-5423-45d5-9613-79dea393f9c4')\"\n",
              "              title=\"Convert this dataframe to an interactive table.\"\n",
              "              style=\"display:none;\">\n",
              "        \n",
              "  <svg xmlns=\"http://www.w3.org/2000/svg\" height=\"24px\"viewBox=\"0 0 24 24\"\n",
              "       width=\"24px\">\n",
              "    <path d=\"M0 0h24v24H0V0z\" fill=\"none\"/>\n",
              "    <path d=\"M18.56 5.44l.94 2.06.94-2.06 2.06-.94-2.06-.94-.94-2.06-.94 2.06-2.06.94zm-11 1L8.5 8.5l.94-2.06 2.06-.94-2.06-.94L8.5 2.5l-.94 2.06-2.06.94zm10 10l.94 2.06.94-2.06 2.06-.94-2.06-.94-.94-2.06-.94 2.06-2.06.94z\"/><path d=\"M17.41 7.96l-1.37-1.37c-.4-.4-.92-.59-1.43-.59-.52 0-1.04.2-1.43.59L10.3 9.45l-7.72 7.72c-.78.78-.78 2.05 0 2.83L4 21.41c.39.39.9.59 1.41.59.51 0 1.02-.2 1.41-.59l7.78-7.78 2.81-2.81c.8-.78.8-2.07 0-2.86zM5.41 20L4 18.59l7.72-7.72 1.47 1.35L5.41 20z\"/>\n",
              "  </svg>\n",
              "      </button>\n",
              "      \n",
              "  <style>\n",
              "    .colab-df-container {\n",
              "      display:flex;\n",
              "      flex-wrap:wrap;\n",
              "      gap: 12px;\n",
              "    }\n",
              "\n",
              "    .colab-df-convert {\n",
              "      background-color: #E8F0FE;\n",
              "      border: none;\n",
              "      border-radius: 50%;\n",
              "      cursor: pointer;\n",
              "      display: none;\n",
              "      fill: #1967D2;\n",
              "      height: 32px;\n",
              "      padding: 0 0 0 0;\n",
              "      width: 32px;\n",
              "    }\n",
              "\n",
              "    .colab-df-convert:hover {\n",
              "      background-color: #E2EBFA;\n",
              "      box-shadow: 0px 1px 2px rgba(60, 64, 67, 0.3), 0px 1px 3px 1px rgba(60, 64, 67, 0.15);\n",
              "      fill: #174EA6;\n",
              "    }\n",
              "\n",
              "    [theme=dark] .colab-df-convert {\n",
              "      background-color: #3B4455;\n",
              "      fill: #D2E3FC;\n",
              "    }\n",
              "\n",
              "    [theme=dark] .colab-df-convert:hover {\n",
              "      background-color: #434B5C;\n",
              "      box-shadow: 0px 1px 3px 1px rgba(0, 0, 0, 0.15);\n",
              "      filter: drop-shadow(0px 1px 2px rgba(0, 0, 0, 0.3));\n",
              "      fill: #FFFFFF;\n",
              "    }\n",
              "  </style>\n",
              "\n",
              "      <script>\n",
              "        const buttonEl =\n",
              "          document.querySelector('#df-ab2b1ab8-5423-45d5-9613-79dea393f9c4 button.colab-df-convert');\n",
              "        buttonEl.style.display =\n",
              "          google.colab.kernel.accessAllowed ? 'block' : 'none';\n",
              "\n",
              "        async function convertToInteractive(key) {\n",
              "          const element = document.querySelector('#df-ab2b1ab8-5423-45d5-9613-79dea393f9c4');\n",
              "          const dataTable =\n",
              "            await google.colab.kernel.invokeFunction('convertToInteractive',\n",
              "                                                     [key], {});\n",
              "          if (!dataTable) return;\n",
              "\n",
              "          const docLinkHtml = 'Like what you see? Visit the ' +\n",
              "            '<a target=\"_blank\" href=https://colab.research.google.com/notebooks/data_table.ipynb>data table notebook</a>'\n",
              "            + ' to learn more about interactive tables.';\n",
              "          element.innerHTML = '';\n",
              "          dataTable['output_type'] = 'display_data';\n",
              "          await google.colab.output.renderOutput(dataTable, element);\n",
              "          const docLink = document.createElement('div');\n",
              "          docLink.innerHTML = docLinkHtml;\n",
              "          element.appendChild(docLink);\n",
              "        }\n",
              "      </script>\n",
              "    </div>\n",
              "  </div>\n",
              "  "
            ]
          },
          "metadata": {},
          "execution_count": 30
        }
      ]
    },
    {
      "cell_type": "code",
      "source": [
        "pickle.dump((preprocess_data),open('/content/drive/MyDrive/Case Study2/preprocess_data.pkl','wb'))"
      ],
      "metadata": {
        "id": "EOkS5ITr7wvQ"
      },
      "execution_count": null,
      "outputs": []
    },
    {
      "cell_type": "code",
      "source": [
        "#Splitting data into train and validation \n",
        "from sklearn.model_selection import train_test_split\n",
        "train, validation = train_test_split(preprocess_data, test_size=0.2)"
      ],
      "metadata": {
        "id": "OFeeMVfW7v9C"
      },
      "execution_count": null,
      "outputs": []
    },
    {
      "cell_type": "code",
      "source": [
        "import re\n",
        "\n",
        "# Performing Sub() operation\n",
        "def strip_gender(txt):\n",
        "\n",
        "  res_1 = re.sub('<m> ', '', txt)\n",
        "  res_1 = re.sub('<f> ', '', res_1)\n",
        "  res_1 = re.sub('<gender> ', '', res_1)\n",
        "\n",
        "  return res_1"
      ],
      "metadata": {
        "id": "UyYhagOzAo4S"
      },
      "execution_count": null,
      "outputs": []
    },
    {
      "cell_type": "code",
      "source": [
        "pickle.dump((train,validation),open('/content/drive/MyDrive/Case Study2/data_split.pkl','wb'))"
      ],
      "metadata": {
        "id": "GV7eEyma8Dnb"
      },
      "execution_count": null,
      "outputs": []
    },
    {
      "cell_type": "code",
      "source": [
        "import pickle\n",
        "train,validation = pickle.load(open('/content/drive/MyDrive/Case Study2/data_split.pkl','rb'))"
      ],
      "metadata": {
        "id": "msdtFXBGOOy2"
      },
      "execution_count": null,
      "outputs": []
    },
    {
      "cell_type": "code",
      "source": [
        "# for one sentence we will be adding <end> token so that the tokanizer learns the word <end>\n",
        "# with this we can use only one tokenizer for both encoder output and decoder output\n",
        "train.iloc[0]['dec_input']= str(train.iloc[0]['dec_input'])+' <end>'\n",
        "train.iloc[0]['dec_output']= str(train.iloc[0]['dec_output'])+' <end>'"
      ],
      "metadata": {
        "id": "C6XUNuDT8TD9"
      },
      "execution_count": null,
      "outputs": []
    },
    {
      "cell_type": "code",
      "source": [
        "#train.enc_inp = train.enc_inp.apply(strip_gender)\n",
        "#validation.enc_inp = validation.enc_inp.apply(strip_gender)\n",
        "train"
      ],
      "metadata": {
        "colab": {
          "base_uri": "https://localhost:8080/",
          "height": 69
        },
        "id": "fp09OjL0In0q",
        "outputId": "5ad7880c-b93b-46cf-cd06-cc6bc7cefaa3"
      },
      "execution_count": null,
      "outputs": [
        {
          "output_type": "execute_result",
          "data": {
            "text/plain": [
              "       enc_gen                                            enc_inp dec_gen  \\\n",
              "42487        m                         why does he call sanderson       f   \n",
              "80493        f                             she thinks he is a pig       f   \n",
              "11452        f                             i think therefore i am       m   \n",
              "84468   gender                      why did not you drop any sail  gender   \n",
              "82596        f                                          oh my god       m   \n",
              "...        ...                                                ...     ...   \n",
              "118166  gender  i bought everything you put on the list gloves...       m   \n",
              "151284       m                                      that is right       f   \n",
              "127644       f                                oh my god i thought       m   \n",
              "137435  gender                                       what is that  gender   \n",
              "21529   gender                             am i too heavy for you  gender   \n",
              "\n",
              "                                                dec_input  \\\n",
              "42487   <start> he is one of the best chess players in...   \n",
              "80493   <start> he is a real piece o work i wish you c...   \n",
              "11452             <start> very good pris now show him why   \n",
              "84468        <start> skipper called us out of the rigging   \n",
              "82596        <start> son of a bitchin lowlife putrid scum   \n",
              "...                                                   ...   \n",
              "118166  <start> why should i have to put it on the lis...   \n",
              "151284  <start> king of the housecalls master of the l...   \n",
              "127644                     <start> i would taken the mask   \n",
              "137435  <start> that is six hundred pounds harry two h...   \n",
              "21529   <start> do not worry you will be like my littl...   \n",
              "\n",
              "                                               dec_output  \n",
              "42487   he is one of the best chess players in the wor...  \n",
              "80493   he is a real piece o work i wish you could mee...  \n",
              "11452               very good pris now show him why <end>  \n",
              "84468          skipper called us out of the rigging <end>  \n",
              "82596          son of a bitchin lowlife putrid scum <end>  \n",
              "...                                                   ...  \n",
              "118166  why should i have to put it on the list it is ...  \n",
              "151284  king of the housecalls master of the living ro...  \n",
              "127644                       i would taken the mask <end>  \n",
              "137435  that is six hundred pounds harry two hundred t...  \n",
              "21529   do not worry you will be like my little papoos...  \n",
              "\n",
              "[92858 rows x 5 columns]"
            ],
            "text/html": [
              "\n",
              "  <div id=\"df-3a1d2f8b-883e-4304-9518-e6dfb4ffe9fc\">\n",
              "    <div class=\"colab-df-container\">\n",
              "      <div>\n",
              "<style scoped>\n",
              "    .dataframe tbody tr th:only-of-type {\n",
              "        vertical-align: middle;\n",
              "    }\n",
              "\n",
              "    .dataframe tbody tr th {\n",
              "        vertical-align: top;\n",
              "    }\n",
              "\n",
              "    .dataframe thead th {\n",
              "        text-align: right;\n",
              "    }\n",
              "</style>\n",
              "<table border=\"1\" class=\"dataframe\">\n",
              "  <thead>\n",
              "    <tr style=\"text-align: right;\">\n",
              "      <th></th>\n",
              "      <th>enc_gen</th>\n",
              "      <th>enc_inp</th>\n",
              "      <th>dec_gen</th>\n",
              "      <th>dec_input</th>\n",
              "      <th>dec_output</th>\n",
              "    </tr>\n",
              "  </thead>\n",
              "  <tbody>\n",
              "    <tr>\n",
              "      <th>42487</th>\n",
              "      <td>m</td>\n",
              "      <td>why does he call sanderson</td>\n",
              "      <td>f</td>\n",
              "      <td>&lt;start&gt; he is one of the best chess players in...</td>\n",
              "      <td>he is one of the best chess players in the wor...</td>\n",
              "    </tr>\n",
              "    <tr>\n",
              "      <th>80493</th>\n",
              "      <td>f</td>\n",
              "      <td>she thinks he is a pig</td>\n",
              "      <td>f</td>\n",
              "      <td>&lt;start&gt; he is a real piece o work i wish you c...</td>\n",
              "      <td>he is a real piece o work i wish you could mee...</td>\n",
              "    </tr>\n",
              "    <tr>\n",
              "      <th>11452</th>\n",
              "      <td>f</td>\n",
              "      <td>i think therefore i am</td>\n",
              "      <td>m</td>\n",
              "      <td>&lt;start&gt; very good pris now show him why</td>\n",
              "      <td>very good pris now show him why &lt;end&gt;</td>\n",
              "    </tr>\n",
              "    <tr>\n",
              "      <th>84468</th>\n",
              "      <td>gender</td>\n",
              "      <td>why did not you drop any sail</td>\n",
              "      <td>gender</td>\n",
              "      <td>&lt;start&gt; skipper called us out of the rigging</td>\n",
              "      <td>skipper called us out of the rigging &lt;end&gt;</td>\n",
              "    </tr>\n",
              "    <tr>\n",
              "      <th>82596</th>\n",
              "      <td>f</td>\n",
              "      <td>oh my god</td>\n",
              "      <td>m</td>\n",
              "      <td>&lt;start&gt; son of a bitchin lowlife putrid scum</td>\n",
              "      <td>son of a bitchin lowlife putrid scum &lt;end&gt;</td>\n",
              "    </tr>\n",
              "    <tr>\n",
              "      <th>...</th>\n",
              "      <td>...</td>\n",
              "      <td>...</td>\n",
              "      <td>...</td>\n",
              "      <td>...</td>\n",
              "      <td>...</td>\n",
              "    </tr>\n",
              "    <tr>\n",
              "      <th>118166</th>\n",
              "      <td>gender</td>\n",
              "      <td>i bought everything you put on the list gloves...</td>\n",
              "      <td>m</td>\n",
              "      <td>&lt;start&gt; why should i have to put it on the lis...</td>\n",
              "      <td>why should i have to put it on the list it is ...</td>\n",
              "    </tr>\n",
              "    <tr>\n",
              "      <th>151284</th>\n",
              "      <td>m</td>\n",
              "      <td>that is right</td>\n",
              "      <td>f</td>\n",
              "      <td>&lt;start&gt; king of the housecalls master of the l...</td>\n",
              "      <td>king of the housecalls master of the living ro...</td>\n",
              "    </tr>\n",
              "    <tr>\n",
              "      <th>127644</th>\n",
              "      <td>f</td>\n",
              "      <td>oh my god i thought</td>\n",
              "      <td>m</td>\n",
              "      <td>&lt;start&gt; i would taken the mask</td>\n",
              "      <td>i would taken the mask &lt;end&gt;</td>\n",
              "    </tr>\n",
              "    <tr>\n",
              "      <th>137435</th>\n",
              "      <td>gender</td>\n",
              "      <td>what is that</td>\n",
              "      <td>gender</td>\n",
              "      <td>&lt;start&gt; that is six hundred pounds harry two h...</td>\n",
              "      <td>that is six hundred pounds harry two hundred t...</td>\n",
              "    </tr>\n",
              "    <tr>\n",
              "      <th>21529</th>\n",
              "      <td>gender</td>\n",
              "      <td>am i too heavy for you</td>\n",
              "      <td>gender</td>\n",
              "      <td>&lt;start&gt; do not worry you will be like my littl...</td>\n",
              "      <td>do not worry you will be like my little papoos...</td>\n",
              "    </tr>\n",
              "  </tbody>\n",
              "</table>\n",
              "<p>92858 rows × 5 columns</p>\n",
              "</div>\n",
              "      <button class=\"colab-df-convert\" onclick=\"convertToInteractive('df-3a1d2f8b-883e-4304-9518-e6dfb4ffe9fc')\"\n",
              "              title=\"Convert this dataframe to an interactive table.\"\n",
              "              style=\"display:none;\">\n",
              "        \n",
              "  <svg xmlns=\"http://www.w3.org/2000/svg\" height=\"24px\"viewBox=\"0 0 24 24\"\n",
              "       width=\"24px\">\n",
              "    <path d=\"M0 0h24v24H0V0z\" fill=\"none\"/>\n",
              "    <path d=\"M18.56 5.44l.94 2.06.94-2.06 2.06-.94-2.06-.94-.94-2.06-.94 2.06-2.06.94zm-11 1L8.5 8.5l.94-2.06 2.06-.94-2.06-.94L8.5 2.5l-.94 2.06-2.06.94zm10 10l.94 2.06.94-2.06 2.06-.94-2.06-.94-.94-2.06-.94 2.06-2.06.94z\"/><path d=\"M17.41 7.96l-1.37-1.37c-.4-.4-.92-.59-1.43-.59-.52 0-1.04.2-1.43.59L10.3 9.45l-7.72 7.72c-.78.78-.78 2.05 0 2.83L4 21.41c.39.39.9.59 1.41.59.51 0 1.02-.2 1.41-.59l7.78-7.78 2.81-2.81c.8-.78.8-2.07 0-2.86zM5.41 20L4 18.59l7.72-7.72 1.47 1.35L5.41 20z\"/>\n",
              "  </svg>\n",
              "      </button>\n",
              "      \n",
              "  <style>\n",
              "    .colab-df-container {\n",
              "      display:flex;\n",
              "      flex-wrap:wrap;\n",
              "      gap: 12px;\n",
              "    }\n",
              "\n",
              "    .colab-df-convert {\n",
              "      background-color: #E8F0FE;\n",
              "      border: none;\n",
              "      border-radius: 50%;\n",
              "      cursor: pointer;\n",
              "      display: none;\n",
              "      fill: #1967D2;\n",
              "      height: 32px;\n",
              "      padding: 0 0 0 0;\n",
              "      width: 32px;\n",
              "    }\n",
              "\n",
              "    .colab-df-convert:hover {\n",
              "      background-color: #E2EBFA;\n",
              "      box-shadow: 0px 1px 2px rgba(60, 64, 67, 0.3), 0px 1px 3px 1px rgba(60, 64, 67, 0.15);\n",
              "      fill: #174EA6;\n",
              "    }\n",
              "\n",
              "    [theme=dark] .colab-df-convert {\n",
              "      background-color: #3B4455;\n",
              "      fill: #D2E3FC;\n",
              "    }\n",
              "\n",
              "    [theme=dark] .colab-df-convert:hover {\n",
              "      background-color: #434B5C;\n",
              "      box-shadow: 0px 1px 3px 1px rgba(0, 0, 0, 0.15);\n",
              "      filter: drop-shadow(0px 1px 2px rgba(0, 0, 0, 0.3));\n",
              "      fill: #FFFFFF;\n",
              "    }\n",
              "  </style>\n",
              "\n",
              "      <script>\n",
              "        const buttonEl =\n",
              "          document.querySelector('#df-3a1d2f8b-883e-4304-9518-e6dfb4ffe9fc button.colab-df-convert');\n",
              "        buttonEl.style.display =\n",
              "          google.colab.kernel.accessAllowed ? 'block' : 'none';\n",
              "\n",
              "        async function convertToInteractive(key) {\n",
              "          const element = document.querySelector('#df-3a1d2f8b-883e-4304-9518-e6dfb4ffe9fc');\n",
              "          const dataTable =\n",
              "            await google.colab.kernel.invokeFunction('convertToInteractive',\n",
              "                                                     [key], {});\n",
              "          if (!dataTable) return;\n",
              "\n",
              "          const docLinkHtml = 'Like what you see? Visit the ' +\n",
              "            '<a target=\"_blank\" href=https://colab.research.google.com/notebooks/data_table.ipynb>data table notebook</a>'\n",
              "            + ' to learn more about interactive tables.';\n",
              "          element.innerHTML = '';\n",
              "          dataTable['output_type'] = 'display_data';\n",
              "          await google.colab.output.renderOutput(dataTable, element);\n",
              "          const docLink = document.createElement('div');\n",
              "          docLink.innerHTML = docLinkHtml;\n",
              "          element.appendChild(docLink);\n",
              "        }\n",
              "      </script>\n",
              "    </div>\n",
              "  </div>\n",
              "  "
            ]
          },
          "metadata": {},
          "execution_count": 7
        },
        {
          "output_type": "stream",
          "name": "stdout",
          "text": [
            "Warning: total number of rows (92858) exceeds max_rows (20000). Limiting to first (20000) rows.\n",
            "Warning: total number of rows (92858) exceeds max_rows (20000). Limiting to first (20000) rows.\n"
          ]
        }
      ]
    },
    {
      "cell_type": "code",
      "source": [
        "enc_inp_len = train['enc_inp'].str.split().apply(len)\n",
        "dec_inp_len = train['dec_input'].str.split().apply(len)\n",
        "\n",
        "#99 percentile of english and italian sentences length\n",
        "\n",
        "print('90 percentile of encoder input and decoder input sentences length %d and %d'%(np.percentile(enc_inp_len,100),np.percentile(dec_inp_len,100)))"
      ],
      "metadata": {
        "id": "sXXw-NJVASpU",
        "colab": {
          "base_uri": "https://localhost:8080/"
        },
        "outputId": "507d32f8-eef9-4056-85b2-2fb12583b53a"
      },
      "execution_count": null,
      "outputs": [
        {
          "output_type": "stream",
          "name": "stdout",
          "text": [
            "90 percentile of encoder input and decoder input sentences length 20 and 21\n"
          ]
        }
      ]
    },
    {
      "cell_type": "code",
      "source": [
        "all_text = list(train.enc_inp.values)\n",
        "all_text.extend(list(train.dec_input))\n",
        "all_text.extend(list(train.dec_output))"
      ],
      "metadata": {
        "id": "iK3ThKn5sSJy"
      },
      "execution_count": null,
      "outputs": []
    },
    {
      "cell_type": "code",
      "execution_count": null,
      "metadata": {
        "id": "Nt9XO6noOnF3"
      },
      "outputs": [],
      "source": [
        "from tensorflow.keras.preprocessing.text import Tokenizer"
      ]
    },
    {
      "cell_type": "code",
      "source": [
        "tokenizer = Tokenizer(num_words = 10002 + 1,oov_token= '<unk>', filters = '' )\n",
        "\n",
        "tokenizer.fit_on_texts(all_text)\n",
        "\n"
      ],
      "metadata": {
        "id": "2rDyJOe4wX9A"
      },
      "execution_count": null,
      "outputs": []
    },
    {
      "cell_type": "code",
      "execution_count": null,
      "metadata": {
        "colab": {
          "base_uri": "https://localhost:8080/"
        },
        "outputId": "b1c63c15-30e1-43cd-8de2-71d451b35fa3",
        "scrolled": true,
        "id": "TnrTWt0UOnF5"
      },
      "outputs": [
        {
          "output_type": "execute_result",
          "data": {
            "text/plain": [
              "(5, 4)"
            ]
          },
          "metadata": {},
          "execution_count": 12
        }
      ],
      "source": [
        "tokenizer.word_index['<start>'], tokenizer.word_index['<end>']"
      ]
    },
    {
      "cell_type": "code",
      "source": [
        "tokenizer.word_index['<unk>']"
      ],
      "metadata": {
        "colab": {
          "base_uri": "https://localhost:8080/"
        },
        "id": "Btq6CJ8im4lg",
        "outputId": "5d91aec7-ad16-4d42-da07-75778ff725ea"
      },
      "execution_count": null,
      "outputs": [
        {
          "output_type": "execute_result",
          "data": {
            "text/plain": [
              "1"
            ]
          },
          "metadata": {},
          "execution_count": 13
        }
      ]
    },
    {
      "cell_type": "code",
      "execution_count": null,
      "metadata": {
        "colab": {
          "base_uri": "https://localhost:8080/"
        },
        "outputId": "6bf5af09-0cbe-4547-d1eb-7d71edb84948",
        "id": "ooghoVyJOnF4"
      },
      "outputs": [
        {
          "output_type": "stream",
          "name": "stdout",
          "text": [
            "36906\n"
          ]
        }
      ],
      "source": [
        "vocab_size_dec=len(tokenizer.word_index.keys())\n",
        "print(vocab_size_dec)\n"
      ]
    },
    {
      "cell_type": "code",
      "execution_count": null,
      "metadata": {
        "id": "1CQ0vjmwOnF6"
      },
      "outputs": [],
      "source": [
        "from tensorflow.keras.preprocessing.sequence import pad_sequences\n",
        "\n",
        "train_enc = tokenizer.texts_to_sequences(train.enc_inp)\n",
        "train_dec_input = tokenizer.texts_to_sequences(train.dec_input)\n",
        "train_dec_output = tokenizer.texts_to_sequences(train.dec_output)\n",
        "\n",
        "validation_enc = tokenizer.texts_to_sequences(validation.enc_inp)\n",
        "validation_dec_input = tokenizer.texts_to_sequences(validation.dec_input)\n",
        "validation_dec_output = tokenizer.texts_to_sequences(validation.dec_output)"
      ]
    },
    {
      "cell_type": "code",
      "execution_count": null,
      "metadata": {
        "id": "DOO9rR-aOnF6"
      },
      "outputs": [],
      "source": [
        "train_enc = pad_sequences(train_enc,maxlen = 20, padding='post')\n",
        "train_dec_input = pad_sequences(train_dec_input,maxlen = 20, padding='post')\n",
        "train_dec_output = pad_sequences(train_dec_output,maxlen = 20, padding='post')\n",
        "\n",
        "validation_enc = pad_sequences(validation_enc,maxlen = 21, padding='post')\n",
        "validation_dec_input = pad_sequences(validation_dec_input,maxlen = 21, padding='post')\n",
        "validation_dec_output = pad_sequences(validation_dec_output,maxlen = 21, padding='post')"
      ]
    },
    {
      "cell_type": "code",
      "source": [
        "np.max(train_enc), np.max(train_dec_input), np.max(train_dec_output)"
      ],
      "metadata": {
        "colab": {
          "base_uri": "https://localhost:8080/"
        },
        "id": "uY32nom2y8E1",
        "outputId": "0f27b3d9-aafd-4631-d2ea-e07df165f741"
      },
      "execution_count": null,
      "outputs": [
        {
          "output_type": "execute_result",
          "data": {
            "text/plain": [
              "(10002, 10002, 10002)"
            ]
          },
          "metadata": {},
          "execution_count": 17
        }
      ]
    },
    {
      "cell_type": "code",
      "source": [
        "train_enc.shape"
      ],
      "metadata": {
        "colab": {
          "base_uri": "https://localhost:8080/"
        },
        "id": "CyQwsZWI9Vjv",
        "outputId": "02752e29-1be2-41e6-d404-0c0e660d2fa9"
      },
      "execution_count": null,
      "outputs": [
        {
          "output_type": "execute_result",
          "data": {
            "text/plain": [
              "(92858, 20)"
            ]
          },
          "metadata": {},
          "execution_count": 18
        }
      ]
    },
    {
      "cell_type": "code",
      "execution_count": null,
      "metadata": {
        "scrolled": false,
        "id": "ss_37BrzOnF6"
      },
      "outputs": [],
      "source": [
        "#Getting the training data sets for models\n",
        "x_tr,y_tr = [train_enc[:-186],train_dec_input[:-186]],train_dec_output[:-186]"
      ]
    },
    {
      "cell_type": "markdown",
      "metadata": {
        "id": "S8RDrP4xKabR"
      },
      "source": [
        "## <font color='blue'>**Implement custom encoder decoder**</font>"
      ]
    },
    {
      "cell_type": "code",
      "execution_count": null,
      "metadata": {
        "id": "ns-k_C-oqAGW"
      },
      "outputs": [],
      "source": [
        "import tensorflow as tf\n",
        "import tensorflow.keras as keras\n",
        "from  tensorflow.keras.layers import LSTM, Embedding, Dense, BatchNormalization"
      ]
    },
    {
      "cell_type": "markdown",
      "metadata": {
        "id": "A45uc0JILMlV"
      },
      "source": [
        "<font color='blue'>**Encoder**</font>"
      ]
    },
    {
      "cell_type": "code",
      "execution_count": null,
      "metadata": {
        "id": "9cex2XfCLOew"
      },
      "outputs": [],
      "source": [
        "class Encoder(tf.keras.Model):\n",
        "    '''\n",
        "    Encoder model -- That takes a input sequence and returns encoder-outputs,encoder_final_state_h,encoder_final_state_c\n",
        "    '''\n",
        "\n",
        "    def __init__(self,inp_vocab_size,embedding_size,lstm_size,input_length):\n",
        "\n",
        "        #Initialize Embedding layer\n",
        "        #Intialize Encoder LSTM layer\n",
        "\n",
        "        super().__init__()\n",
        "        self.vocab_size = inp_vocab_size\n",
        "        self.embedding_dim = embedding_size\n",
        "        self.input_length = input_length\n",
        "        self.enc_units= lstm_size\n",
        "        self.lstm_output = 0\n",
        "        self.lstm_state_h=0\n",
        "        self.lstm_state_c=0\n",
        "\n",
        "        self.embedding = Embedding(input_dim=self.vocab_size, output_dim=self.embedding_dim, input_length=self.input_length,\n",
        "                           mask_zero=True, name=\"embedding_layer_encoder\")\n",
        "        \n",
        "        self.lstm = LSTM(self.enc_units, return_state=True, return_sequences=True,name=\"Encoder_LSTM\")\n",
        "\n",
        "    def call(self,input_sequence,states):\n",
        "        '''\n",
        "          This function takes a sequence input and the initial states of the encoder.\n",
        "          Pass the input_sequence input to the Embedding layer, Pass the embedding layer ouput to encoder_lstm\n",
        "          returns -- encoder_output, last time step's hidden and cell state\n",
        "        '''\n",
        "        input_sentence = self.embedding(input_sequence)\n",
        "        lstm_output,state_h,state_c = self.lstm(input_sentence,initial_state=states)\n",
        "\n",
        "        return lstm_output,state_h,state_c\n",
        "        \n",
        "\n",
        "      \n",
        "\n",
        "    \n",
        "    def initialize_states(self,batch_size):\n",
        "      '''\n",
        "      Given a batch size it will return intial hidden state and intial cell state.\n",
        "      If batch size is 32- Hidden state is zeros of size [32,lstm_units], cell state zeros is of size [32,lstm_units]\n",
        "      '''\n",
        "      self.batch_size = batch_size\n",
        "      return (tf.zeros([batch_size,self.enc_units]),\n",
        "             tf.zeros([batch_size,self.enc_units]))\n",
        "      \n"
      ]
    },
    {
      "cell_type": "markdown",
      "metadata": {
        "id": "EtbOI3VwLOe0"
      },
      "source": [
        "<font color='orange'>**Grader function - 1**</font>"
      ]
    },
    {
      "cell_type": "code",
      "execution_count": null,
      "metadata": {
        "id": "x1ES1-sJLOe4"
      },
      "outputs": [],
      "source": [
        "class Decoder(tf.keras.Model):\n",
        "    '''\n",
        "    Encoder model -- That takes a input sequence and returns output sequence\n",
        "    '''\n",
        "\n",
        "    def __init__(self,out_vocab_size,embedding_size,lstm_size,input_length):\n",
        "\n",
        "        #Initialize Embedding layer\n",
        "        #Intialize Decoder LSTM layer\n",
        "        super().__init__()\n",
        "        self.vocab_size = out_vocab_size #Vocab size of output text (English)\n",
        "        self.embedding_dim = embedding_size\n",
        "        self.dec_units = lstm_size\n",
        "        self.input_length = input_length\n",
        "\n",
        "        self.embedding = Embedding(input_dim=self.vocab_size, output_dim=self.embedding_dim, input_length=self.input_length,\n",
        "                           mask_zero=True, name=\"embedding_layer_decoder\")#,weights=[embedding_matrix], trainable=False)\n",
        "        \n",
        "        self.lstm = LSTM(self.dec_units, return_state=True, return_sequences=True, name=\"Decoder_LSTM\")\n",
        "\n",
        "\n",
        "    def call(self,input_sequence,initial_states):\n",
        "        '''\n",
        "          This function takes a sequence input and the initial states of the encoder.\n",
        "          Pass the input_sequence input to the Embedding layer, Pass the embedding layer ouput to decoder_lstm\n",
        "        \n",
        "          returns -- decoder_output,decoder_final_state_h,decoder_final_state_c\n",
        "        '''\n",
        "\n",
        "        input_sentence = self.embedding(input_sequence)\n",
        "        lstm_output,state_h,state_c = self.lstm(input_sentence,initial_state=initial_states)\n",
        "\n",
        "        return lstm_output,state_h,state_c\n",
        "\n",
        "\n",
        "      \n"
      ]
    },
    {
      "cell_type": "markdown",
      "metadata": {
        "id": "Hq-I0SUbLOe8"
      },
      "source": [
        "<font color='orange'>**Grader function - 2**</font>"
      ]
    },
    {
      "cell_type": "code",
      "execution_count": null,
      "metadata": {
        "id": "BXrIj4scLOe_"
      },
      "outputs": [],
      "source": [
        "class Encoder_decoder(tf.keras.Model):\n",
        "    \n",
        "    def __init__(self,encoder_inputs_length,decoder_inputs_length, output_vocab_size,batch_size):\n",
        "        \n",
        "        super().__init__()\n",
        "        \n",
        "        \n",
        "                        \n",
        "        #Create encoder object\n",
        "        #Create decoder object\n",
        "        #Intialize Dense layer(out_vocab_size) with activation = 'softmax'\n",
        "        \n",
        "        self.encoder = Encoder(inp_vocab_size = output_vocab_size+1 ,embedding_size = 500,lstm_size = 500,\n",
        "                               input_length=encoder_inputs_length)\n",
        "        \n",
        "        self.decoder = Decoder(out_vocab_size = output_vocab_size+1 ,embedding_size = 500,lstm_size= 500,\n",
        "                               input_length = decoder_inputs_length)\n",
        "        \n",
        "        self.dense = Dense(output_vocab_size+1,activation='softmax')\n",
        "        \n",
        "        self.states = self.encoder.initialize_states(batch_size)\n",
        "    \n",
        "    def call(self,data):\n",
        "        '''\n",
        "        A. Pass the input sequence to Encoder layer -- Return encoder_output,encoder_final_state_h,encoder_final_state_c\n",
        "        B. Pass the target sequence to Decoder layer with intial states as encoder_final_state_h,encoder_final_state_C\n",
        "        C. Pass the decoder_outputs into Dense layer \n",
        "        \n",
        "        Return decoder_outputs\n",
        "        '''\n",
        "        \n",
        "        input,output = data[0], data[1]\n",
        "        encoder_output, encoder_h, encoder_c = self.encoder(input,self.states)\n",
        "        decoder_output,dec_state_h,dec_state_c = self.decoder(output, [encoder_h, encoder_c])\n",
        "        #decoder_output = BatchNormalization()(decoder_output)\n",
        "        \n",
        "        output = self.dense(decoder_output)\n",
        "        \n",
        "        return output\n",
        "        "
      ]
    },
    {
      "cell_type": "markdown",
      "metadata": {
        "id": "ALW-78VgkoN9"
      },
      "source": [
        "# Padding and tokenizing"
      ]
    },
    {
      "cell_type": "code",
      "execution_count": null,
      "metadata": {
        "id": "_Z-qGHj_OvU0"
      },
      "outputs": [],
      "source": [
        "from tensorflow.keras.callbacks import ModelCheckpoint, TensorBoard\n",
        "\n",
        "filepath = 'task-1/weight_best.hdf5'\n",
        "\n",
        "#checkpoint_1 = ModelCheckpoint(filepath=filepath, monitor='accuracy', save_best_only=True, mode='auto')\n",
        "log_dir = 'logs'\n",
        "tensorboard = TensorBoard(log_dir= log_dir, histogram_freq= 1, write_graph= True)\n",
        "\n",
        "callbacks = [tensorboard]"
      ]
    },
    {
      "cell_type": "code",
      "source": [
        "#x_val,y_val = [validation_enc[:-195],validation_dec_input[:-195]],validation_dec_output[:-195]"
      ],
      "metadata": {
        "id": "iz1G-iS6BQIF"
      },
      "execution_count": null,
      "outputs": []
    },
    {
      "cell_type": "code",
      "source": [
        "vocab_size_dec  = 10002"
      ],
      "metadata": {
        "id": "YJHAZC7E9A4P"
      },
      "execution_count": null,
      "outputs": []
    },
    {
      "cell_type": "code",
      "source": [
        "#Create an object of encoder_decoder Model class, \n",
        "# Compile the model and fit the model \n",
        "\n",
        "model  = Encoder_decoder(encoder_inputs_length=20,decoder_inputs_length=21,output_vocab_size=vocab_size_dec, \n",
        "                         batch_size = 512)\n",
        "optimizer = tf.keras.optimizers.Adam(learning_rate=0.009,clipvalue=.5)\n",
        "model.compile(optimizer=optimizer,loss='sparse_categorical_crossentropy',metrics = ['accuracy'])\n"
      ],
      "metadata": {
        "id": "bvL6sXW7QZHt"
      },
      "execution_count": null,
      "outputs": []
    },
    {
      "cell_type": "code",
      "execution_count": null,
      "metadata": {
        "colab": {
          "base_uri": "https://localhost:8080/"
        },
        "outputId": "24aeea04-190f-4448-917d-9a824b68485c",
        "id": "ogOpr2tsOvU0"
      },
      "outputs": [
        {
          "output_type": "stream",
          "name": "stdout",
          "text": [
            "Epoch 1/30\n",
            "128/128 [==============================] - 53s 412ms/step - loss: 2.9431 - accuracy: 0.1379\n",
            "Epoch 2/30\n",
            "128/128 [==============================] - 52s 404ms/step - loss: 2.6638 - accuracy: 0.1775\n",
            "Epoch 3/30\n",
            "128/128 [==============================] - 51s 401ms/step - loss: 2.5930 - accuracy: 0.1934\n",
            "Epoch 4/30\n",
            "128/128 [==============================] - 51s 402ms/step - loss: 2.3751 - accuracy: 0.2089\n",
            "Epoch 5/30\n",
            "128/128 [==============================] - 53s 411ms/step - loss: 2.1818 - accuracy: 0.2298\n",
            "Epoch 6/30\n",
            "128/128 [==============================] - 51s 401ms/step - loss: 2.1008 - accuracy: 0.2393\n",
            "Epoch 7/30\n",
            "128/128 [==============================] - 51s 402ms/step - loss: 2.0588 - accuracy: 0.2445\n",
            "Epoch 8/30\n",
            "128/128 [==============================] - 51s 402ms/step - loss: 1.9788 - accuracy: 0.2517\n",
            "Epoch 9/30\n",
            "128/128 [==============================] - 51s 402ms/step - loss: 1.9413 - accuracy: 0.2555\n",
            "Epoch 10/30\n",
            "128/128 [==============================] - 51s 401ms/step - loss: 1.9151 - accuracy: 0.2590\n",
            "Epoch 11/30\n",
            "128/128 [==============================] - 51s 402ms/step - loss: 1.8526 - accuracy: 0.2652\n",
            "Epoch 12/30\n",
            "128/128 [==============================] - 51s 401ms/step - loss: 1.8082 - accuracy: 0.2710\n",
            "Epoch 13/30\n",
            "128/128 [==============================] - 51s 402ms/step - loss: 1.7819 - accuracy: 0.2747\n",
            "Epoch 14/30\n",
            "128/128 [==============================] - 51s 401ms/step - loss: 1.7535 - accuracy: 0.2792\n",
            "Epoch 15/30\n",
            "128/128 [==============================] - 51s 402ms/step - loss: 1.6880 - accuracy: 0.2904\n",
            "Epoch 16/30\n",
            "128/128 [==============================] - 51s 401ms/step - loss: 1.6685 - accuracy: 0.2956\n",
            "Epoch 17/30\n",
            "128/128 [==============================] - 51s 401ms/step - loss: 1.6601 - accuracy: 0.2968\n",
            "Epoch 18/30\n",
            "128/128 [==============================] - 51s 402ms/step - loss: 1.5917 - accuracy: 0.3123\n",
            "Epoch 19/30\n",
            "128/128 [==============================] - 51s 401ms/step - loss: 1.5716 - accuracy: 0.3185\n",
            "Epoch 20/30\n",
            "128/128 [==============================] - 51s 401ms/step - loss: 1.5648 - accuracy: 0.3197\n",
            "Epoch 21/30\n",
            "128/128 [==============================] - 51s 402ms/step - loss: 1.5295 - accuracy: 0.3292\n",
            "Epoch 22/30\n",
            "128/128 [==============================] - 51s 401ms/step - loss: 1.4903 - accuracy: 0.3401\n",
            "Epoch 23/30\n",
            "128/128 [==============================] - 51s 402ms/step - loss: 1.4843 - accuracy: 0.3416\n",
            "Epoch 24/30\n",
            "128/128 [==============================] - 51s 401ms/step - loss: 1.4788 - accuracy: 0.3429\n",
            "Epoch 25/30\n",
            "128/128 [==============================] - 51s 401ms/step - loss: 1.4228 - accuracy: 0.3609\n",
            "Epoch 26/30\n",
            "128/128 [==============================] - 51s 401ms/step - loss: 1.4168 - accuracy: 0.3621\n",
            "Epoch 27/30\n",
            "128/128 [==============================] - 51s 401ms/step - loss: 1.4185 - accuracy: 0.3616\n",
            "Epoch 28/30\n",
            "128/128 [==============================] - 51s 402ms/step - loss: 1.3793 - accuracy: 0.3728\n",
            "Epoch 29/30\n",
            "128/128 [==============================] - 51s 401ms/step - loss: 1.3633 - accuracy: 0.3789\n",
            "Epoch 30/30\n",
            "128/128 [==============================] - 51s 402ms/step - loss: 1.3626 - accuracy: 0.3785\n"
          ]
        },
        {
          "output_type": "execute_result",
          "data": {
            "text/plain": [
              "<keras.callbacks.History at 0x7f97eb8b8490>"
            ]
          },
          "metadata": {},
          "execution_count": 64
        }
      ],
      "source": [
        "\n",
        "train_steps=train.shape[0]//1027\n",
        "#valid_steps=validation.shape[0]//1024\n",
        "\n",
        "model.fit(x_tr,y_tr,steps_per_epoch=128,batch_size= 512, epochs= 30,callbacks= callbacks)\n",
        "\n"
      ]
    },
    {
      "cell_type": "code",
      "execution_count": null,
      "metadata": {
        "id": "Vuk1UGRsoq60",
        "colab": {
          "base_uri": "https://localhost:8080/",
          "height": 821
        },
        "outputId": "6ab3bf37-0393-440f-d1ca-397c33fd01b6"
      },
      "outputs": [],
      "source": [
        "import tensorflow, tensorboard\n",
        "%reload_ext tensorboard\n",
        "%tensorboard --logdir logs/"
      ]
    },
    {
      "cell_type": "code",
      "source": [
        "#1000 random test  sentences\n",
        "indexes = np.random.randint(0,len(train),1000)\n",
        "enc_sentences = [train.enc_inp.values[i] for i in indexes]\n",
        "target_sent = [train.dec_output.values[i].strip(\" <end>\") for i in indexes]"
      ],
      "metadata": {
        "id": "eXzy5c4lQlPF"
      },
      "execution_count": null,
      "outputs": []
    },
    {
      "cell_type": "code",
      "source": [
        "#1000 random test  sentences\n",
        "indexes = np.random.randint(0,len(validation),1000)\n",
        "enc_sentences = [validation.enc_inp.values[i] for i in indexes]\n",
        "target_sent = [validation.dec_output.values[i].strip(\" <end>\") for i in indexes]"
      ],
      "metadata": {
        "id": "7zYEZxZcc7Ar"
      },
      "execution_count": null,
      "outputs": []
    },
    {
      "cell_type": "code",
      "source": [
        "'''def evaluate_beam(input_sentence, beam_index = 3):\n",
        "\n",
        "    start = [tokenizer.word_index['<start>']]\n",
        "    \n",
        "    # result[0][0] = index of the starting word\n",
        "    # result[0][1] = probability of the word predicted\n",
        "    result = [[start, 0.0]]\n",
        "\n",
        "    #attention_plot = np.zeros((max_length, attention_features_shape))\n",
        "\n",
        "    #hidden = decoder.reset_state(batch_size=1)\n",
        "\n",
        "    #temp_input = tf.expand_dims(load_image(image)[0], 0)\n",
        "    #img_tensor_val = image_features_extract_model(temp_input)\n",
        "    #img_tensor_val = tf.reshape(img_tensor_val, (img_tensor_val.shape[0], -1, img_tensor_val.shape[3]))\n",
        "\n",
        "    #features = encoder(img_tensor_val)\n",
        "\n",
        "    #dec_input = tf.expand_dims([tkenizer_dec.word_index['<start>']], 0)\n",
        "\n",
        "\n",
        "\n",
        "\n",
        "    encoder_units = 500\n",
        "    \n",
        "    text = preprocess(input_sentence)\n",
        "    \n",
        "    text = [tokenizer.word_index[i] for i in text.split(\" \") if i in tokenizer.word_index.keys()]\n",
        "    \n",
        "    text = tf.keras.preprocessing.sequence.pad_sequences([text],\n",
        "                                                         maxlen=25,padding='post')\n",
        "    \n",
        "    enc_out, enc_h,enc_c = model.layers[0](text, [tf.zeros((1, encoder_units)),tf.zeros((1, encoder_units))])\n",
        "    \n",
        "    states_values = [enc_h, enc_c ]\n",
        "\n",
        "\n",
        "    while len(result[0][0]) <= 25:\n",
        "        i=0\n",
        "        temp = []\n",
        "        for s in result:\n",
        "          #print(\"s: \", s)\n",
        "          #print(\"rsult: \",s[0],len(result),s[0][-1])\n",
        "\n",
        "          #print(dec_input)\n",
        "          dec_input = tf.expand_dims([s[0][-1]] , 0)\n",
        "\n",
        "          lstm_input = model.layers[1].embedding(dec_input)\n",
        "\n",
        "          \n",
        "\n",
        "          predictions, dec_h, dec_c = model.layers[1].lstm(lstm_input, initial_state = states_values)\n",
        "          \n",
        "          states_values = [dec_h, dec_c]\n",
        "          #attention_plot[i] = tf.reshape(attention_weights, (-1, )).numpy()\n",
        "          i=i+1\n",
        "          # Getting the top <beam_index>(n) predictions\n",
        "          predictions = -1 * np.log(predictions[0][0])\n",
        "          word_preds = np.argsort(predictions)#[:beam_index]\n",
        "          #print(\"top words :\",word_preds)\n",
        "          # creating a new list so as to put them via the model again\n",
        "\n",
        "          for w in word_preds:\n",
        "\n",
        "            next_cap, prob = s[0][:], s[1]\n",
        "            next_cap.append(w)\n",
        "            prob += predictions[w]\n",
        "            temp.append([next_cap, prob])\n",
        "            \n",
        "        result = temp\n",
        "          #print(temp)\n",
        "          # Sorting according to the probabilities\n",
        "        result = sorted(result, reverse=False, key=lambda l: l[1])\n",
        "          # Getting the top words\n",
        "        result = result[:beam_index]\n",
        "          #print(result[-1][0])\n",
        "        predicted_id = result[-1] # with Max Probability\n",
        "          \n",
        "        pred_list = predicted_id[0]\n",
        "        #print(pred_list)\n",
        "        prd_id = pred_list[-1]\n",
        "        #print(\"pred_id : \",prd_id)\n",
        "          #dec_input = tf.expand_dims([prd_id], 0)\n",
        "        \n",
        "        if(prd_id!=3):\n",
        "          dec_input = tf.expand_dims([prd_id], 0)  # Decoder input is the word predicted with highest probability among the top_k words predicted\n",
        "        else:\n",
        "          break\n",
        "\n",
        "    result = result[-1][0]\n",
        "  \n",
        "    intermediate_caption = [tokenizer.index_word[i] for i in result]\n",
        "    final_caption = []\n",
        "    for i in intermediate_caption:\n",
        "        if i != '<end>':\n",
        "            final_caption.append(i)\n",
        "            \n",
        "        else:\n",
        "            break\n",
        "\n",
        "    #attention_plot = attention_plot[:len(result), :]\n",
        "    final_caption = ' '.join(final_caption[1:])\n",
        "    return final_caption#,attention_plot'''"
      ],
      "metadata": {
        "id": "3JtCwR2bQO_q"
      },
      "execution_count": null,
      "outputs": []
    },
    {
      "cell_type": "code",
      "execution_count": null,
      "metadata": {
        "id": "SkARSlZgLOfE"
      },
      "outputs": [],
      "source": [
        "def predict(input_sentence):\n",
        "\n",
        "\n",
        "    encoder_units = 500\n",
        "    \n",
        "    text = preprocess(input_sentence)\n",
        "    #print(text)\n",
        "    \n",
        "    text = [tokenizer.word_index[i] for i in text.split(\" \") if i in tokenizer.word_index.keys()]\n",
        "    \n",
        "    text = tf.keras.preprocessing.sequence.pad_sequences([text],\n",
        "                                                         maxlen=25,padding='post')\n",
        "    \n",
        "    enc_out, enc_h,enc_c = model.layers[0](text, [tf.zeros((1, encoder_units)),tf.zeros((1, encoder_units))])\n",
        "     \n",
        "    cur_vec = tf.expand_dims([tokenizer.word_index['<start>']] , 0)\n",
        "    states_values = [enc_h, enc_c ] \n",
        "    \n",
        "    sentence = []\n",
        "\n",
        "    for i in range(21):# Since output has max 26 words\n",
        "        \n",
        "        cur_emb = model.layers[1].embedding(cur_vec)\n",
        "\n",
        "        infe_output, state_h, state_c = model.layers[1].lstm(cur_emb, initial_state=states_values)\n",
        "        infe_output = model.layers[2](infe_output)\n",
        "        \n",
        "        states_values = [state_h, state_c]\n",
        "        cur_vec = np.reshape(np.argmax(infe_output), (1, 1))\n",
        "        word = tokenizer.index_word[np.argmax(infe_output)]\n",
        "        \n",
        "        if word == '<end>': \n",
        "            #sentence.append(word) \n",
        "            break # to end the loop while '<end>' is the return\n",
        "            \n",
        "        sentence.append(word)\n",
        "        \n",
        "    return \" \".join(sentence)\n",
        "\n",
        "\n",
        "\n",
        "\n"
      ]
    },
    {
      "cell_type": "code",
      "execution_count": null,
      "metadata": {
        "id": "996pFO8BLOfG"
      },
      "outputs": [],
      "source": [
        "# Predict on 1000 random sentences on test data and calculate the average BLEU score of these sentences.\n",
        "# https://www.nltk.org/_modules/nltk/translate/bleu_score.html\n",
        "\n",
        "import warnings\n",
        "warnings.filterwarnings('ignore')\n",
        "import nltk.translate.bleu_score as bleu"
      ]
    },
    {
      "cell_type": "code",
      "execution_count": null,
      "metadata": {
        "colab": {
          "base_uri": "https://localhost:8080/",
          "height": 35
        },
        "id": "d5YgOEokGYmU",
        "outputId": "c4ca35b3-f0cc-4861-a6ce-2a1899243cea"
      },
      "outputs": [
        {
          "output_type": "execute_result",
          "data": {
            "text/plain": [
              "'i just swore my life away back in that'"
            ],
            "application/vnd.google.colaboratory.intrinsic+json": {
              "type": "string"
            }
          },
          "metadata": {},
          "execution_count": 70
        }
      ],
      "source": [
        "enc_sentences[0]"
      ]
    },
    {
      "cell_type": "code",
      "execution_count": null,
      "metadata": {
        "colab": {
          "base_uri": "https://localhost:8080/",
          "height": 35
        },
        "id": "o0YR6EBHGcyO",
        "outputId": "ec914ffa-0462-47ed-dc46-02e5b3f20025"
      },
      "outputs": [
        {
          "output_type": "execute_result",
          "data": {
            "text/plain": [
              "'i am not going to get you to the party'"
            ],
            "application/vnd.google.colaboratory.intrinsic+json": {
              "type": "string"
            }
          },
          "metadata": {},
          "execution_count": 71
        }
      ],
      "source": [
        "#Predicting using normal search\n",
        "pred = predict(enc_sentences[0])\n",
        "pred"
      ]
    },
    {
      "cell_type": "code",
      "source": [
        "#Predicting using normal search\n",
        "pred = predict(\"How are you\")\n",
        "pred"
      ],
      "metadata": {
        "colab": {
          "base_uri": "https://localhost:8080/",
          "height": 35
        },
        "id": "soxKGIJLExGb",
        "outputId": "88c58361-5d7b-4c79-8c63-44e85a2ba986"
      },
      "execution_count": null,
      "outputs": [
        {
          "output_type": "execute_result",
          "data": {
            "text/plain": [
              "'i am not sure'"
            ],
            "application/vnd.google.colaboratory.intrinsic+json": {
              "type": "string"
            }
          },
          "metadata": {},
          "execution_count": 73
        }
      ]
    },
    {
      "cell_type": "code",
      "source": [
        "#Predicting using normal search\n",
        "pred = predict(\"you want cofee\")\n",
        "pred"
      ],
      "metadata": {
        "colab": {
          "base_uri": "https://localhost:8080/",
          "height": 35
        },
        "id": "qMVumT3DE2l1",
        "outputId": "055a8d0c-b961-462f-db26-00b113acd8bd"
      },
      "execution_count": null,
      "outputs": [
        {
          "output_type": "execute_result",
          "data": {
            "text/plain": [
              "'i am not sure'"
            ],
            "application/vnd.google.colaboratory.intrinsic+json": {
              "type": "string"
            }
          },
          "metadata": {},
          "execution_count": 74
        }
      ]
    },
    {
      "cell_type": "code",
      "source": [
        "#Predicting using normal search\n",
        "pred = predict(\"do you like swimming\")\n",
        "pred"
      ],
      "metadata": {
        "colab": {
          "base_uri": "https://localhost:8080/",
          "height": 35
        },
        "id": "BlvmL3S4E8mp",
        "outputId": "f2315891-c305-4269-92b6-f826a46eb253"
      },
      "execution_count": null,
      "outputs": [
        {
          "output_type": "execute_result",
          "data": {
            "text/plain": [
              "'no i am not'"
            ],
            "application/vnd.google.colaboratory.intrinsic+json": {
              "type": "string"
            }
          },
          "metadata": {},
          "execution_count": 102
        }
      ]
    },
    {
      "cell_type": "code",
      "source": [
        "#Predicting using normal search\n",
        "pred = predict(\"do you like running\")\n",
        "pred"
      ],
      "metadata": {
        "colab": {
          "base_uri": "https://localhost:8080/",
          "height": 35
        },
        "id": "uPwRwC1fIbzo",
        "outputId": "acf734c0-32b1-461e-e502-4d97df7a3a42"
      },
      "execution_count": null,
      "outputs": [
        {
          "output_type": "execute_result",
          "data": {
            "text/plain": [
              "'no i am not'"
            ],
            "application/vnd.google.colaboratory.intrinsic+json": {
              "type": "string"
            }
          },
          "metadata": {},
          "execution_count": 103
        }
      ]
    },
    {
      "cell_type": "code",
      "source": [
        "#Predicting using normal search\n",
        "pred = predict(\"do you love me\")\n",
        "pred"
      ],
      "metadata": {
        "colab": {
          "base_uri": "https://localhost:8080/",
          "height": 35
        },
        "id": "ErD4dEbKIfFs",
        "outputId": "7d13224c-7a41-412b-9f40-eb7c69784400"
      },
      "execution_count": null,
      "outputs": [
        {
          "output_type": "execute_result",
          "data": {
            "text/plain": [
              "'i am not sure'"
            ],
            "application/vnd.google.colaboratory.intrinsic+json": {
              "type": "string"
            }
          },
          "metadata": {},
          "execution_count": 109
        }
      ]
    },
    {
      "cell_type": "code",
      "source": [
        "#Predicting using normal search\n",
        "pred = predict(\"foot ball is great\")\n",
        "pred"
      ],
      "metadata": {
        "colab": {
          "base_uri": "https://localhost:8080/",
          "height": 35
        },
        "id": "g78PYBNKIuep",
        "outputId": "e23b7b70-d4d7-4b8b-aec3-aa137086648b"
      },
      "execution_count": null,
      "outputs": [
        {
          "output_type": "execute_result",
          "data": {
            "text/plain": [
              "'i do not know'"
            ],
            "application/vnd.google.colaboratory.intrinsic+json": {
              "type": "string"
            }
          },
          "metadata": {},
          "execution_count": 114
        }
      ]
    },
    {
      "cell_type": "code",
      "source": [
        "#Predicting using normal search\n",
        "pred = predict(\"President Elon Musk is legend\")\n",
        "pred"
      ],
      "metadata": {
        "colab": {
          "base_uri": "https://localhost:8080/",
          "height": 35
        },
        "id": "3jX6-TgZJGtk",
        "outputId": "ac57325f-1bd4-4010-fc95-29b0b36363bd"
      },
      "execution_count": null,
      "outputs": [
        {
          "output_type": "execute_result",
          "data": {
            "text/plain": [
              "'i am not sure'"
            ],
            "application/vnd.google.colaboratory.intrinsic+json": {
              "type": "string"
            }
          },
          "metadata": {},
          "execution_count": 115
        }
      ]
    },
    {
      "cell_type": "code",
      "source": [
        "#Predicting using normal search\n",
        "print(enc_sentences[0],\" \", target_sent[0] )\n",
        "pred = predict(enc_sentences[0])\n",
        "pred"
      ],
      "metadata": {
        "colab": {
          "base_uri": "https://localhost:8080/",
          "height": 53
        },
        "id": "VUShOD3VFLwc",
        "outputId": "b89e83c0-1a78-40bc-d3f1-2c1f09984b02"
      },
      "execution_count": null,
      "outputs": [
        {
          "output_type": "stream",
          "name": "stdout",
          "text": [
            "i just swore my life away back in that   mornin chessyhow is the back\n"
          ]
        },
        {
          "output_type": "execute_result",
          "data": {
            "text/plain": [
              "'i am not going to get you to the party'"
            ],
            "application/vnd.google.colaboratory.intrinsic+json": {
              "type": "string"
            }
          },
          "metadata": {},
          "execution_count": 81
        }
      ]
    },
    {
      "cell_type": "code",
      "source": [
        "#Predicting using normal search\n",
        "i = 100\n",
        "\n",
        "print(\" Input Sentence : \",enc_sentences[i],\"\\n Target :\", target_sent[i] )\n",
        "pred = predict(enc_sentences[i])\n",
        "print(\" \\n Output : \", pred)"
      ],
      "metadata": {
        "colab": {
          "base_uri": "https://localhost:8080/"
        },
        "id": "4kIqDl7KGBwx",
        "outputId": "6d94d7dd-2841-4372-f63c-4093e93bc41c"
      },
      "execution_count": null,
      "outputs": [
        {
          "output_type": "stream",
          "name": "stdout",
          "text": [
            " Input Sentence :  if it is that is pretty high up on the totem pole what do you think \n",
            " Target : gimmie a minut\n",
            " \n",
            " Output :  i am not going to faint but i am not interested in my life\n"
          ]
        }
      ]
    },
    {
      "cell_type": "code",
      "source": [
        "#Predicting using normal search\n",
        "i = 101\n",
        "\n",
        "print(\" Input Sentence : \",enc_sentences[i],\"\\n Target :\", target_sent[i] )\n",
        "pred = predict(enc_sentences[i])\n",
        "print(\" \\n Output : \", pred)"
      ],
      "metadata": {
        "colab": {
          "base_uri": "https://localhost:8080/"
        },
        "id": "zQ-wWsc8_706",
        "outputId": "a26c3795-bb12-467e-d327-08d8082bdf08"
      },
      "execution_count": null,
      "outputs": [
        {
          "output_type": "stream",
          "name": "stdout",
          "text": [
            " Input Sentence :  you are not on that soap opera thing again are you cause you know what that is \n",
            " Target : it is people with no lives watching other people is fake lives\n",
            " \n",
            " Output :  i am not going to get a walk with him\n"
          ]
        }
      ]
    },
    {
      "cell_type": "code",
      "source": [
        "#Predicting using normal search\n",
        "i = 456\n",
        "\n",
        "print(\" Input Sentence : \",enc_sentences[i],\"\\n Target :\", target_sent[i] )\n",
        "pred = predict(enc_sentences[i])\n",
        "print(\" \\n Output : \", pred)"
      ],
      "metadata": {
        "colab": {
          "base_uri": "https://localhost:8080/"
        },
        "id": "qYosQQs9G8ht",
        "outputId": "e939a4a1-94a0-4b02-8f12-cb7941df6cfe"
      },
      "execution_count": null,
      "outputs": [
        {
          "output_type": "stream",
          "name": "stdout",
          "text": [
            " Input Sentence :  what do you think of me \n",
            " Target : what do you mea\n",
            " \n",
            " Output :  i am not going to get a walk with him\n"
          ]
        }
      ]
    },
    {
      "cell_type": "code",
      "source": [
        "#Predicting using normal search\n",
        "pred = predict(\"what do you mea\")\n",
        "pred"
      ],
      "metadata": {
        "colab": {
          "base_uri": "https://localhost:8080/",
          "height": 35
        },
        "id": "id1RzFiUHCis",
        "outputId": "68766712-83c5-44e0-ba23-872fa10138ab"
      },
      "execution_count": null,
      "outputs": [
        {
          "output_type": "execute_result",
          "data": {
            "text/plain": [
              "'i am not going to <unk> the sensation'"
            ],
            "application/vnd.google.colaboratory.intrinsic+json": {
              "type": "string"
            }
          },
          "metadata": {},
          "execution_count": 95
        }
      ]
    },
    {
      "cell_type": "code",
      "source": [
        "#Predicting using normal search\n",
        "pred = predict(\"i am not going to <unk> the sensation\")\n",
        "pred"
      ],
      "metadata": {
        "colab": {
          "base_uri": "https://localhost:8080/",
          "height": 35
        },
        "id": "IIw59OZxHMGg",
        "outputId": "95eacaf1-8859-4088-81a3-c883e7d36ec6"
      },
      "execution_count": null,
      "outputs": [
        {
          "output_type": "execute_result",
          "data": {
            "text/plain": [
              "'you are a <unk>'"
            ],
            "application/vnd.google.colaboratory.intrinsic+json": {
              "type": "string"
            }
          },
          "metadata": {},
          "execution_count": 96
        }
      ]
    },
    {
      "cell_type": "code",
      "execution_count": null,
      "metadata": {
        "colab": {
          "base_uri": "https://localhost:8080/"
        },
        "id": "FIEotwqbkoN_",
        "outputId": "68a59175-6efc-473a-9fce-16815ad70bd4"
      },
      "outputs": [
        {
          "output_type": "stream",
          "name": "stdout",
          "text": [
            "Average belu score for 1000 test setences : 0.20464810010495127\n"
          ]
        }
      ],
      "source": [
        "#Getting The Bleu Score\n",
        "\n",
        "score = 0\n",
        "\n",
        "for i in range(1000):\n",
        "    \n",
        "    pred = predict(enc_sentences[i]).split()\n",
        "    ref = [target_sent[i].split(),]\n",
        "    score += bleu.sentence_bleu(ref, pred)\n",
        "    \n",
        "print(\"Average belu score for 1000 test setences :\",score/1000)"
      ]
    },
    {
      "cell_type": "markdown",
      "metadata": {
        "id": "CxWFDxZXLOfJ"
      },
      "source": [
        " "
      ]
    },
    {
      "cell_type": "code",
      "source": [
        "class Encoder(tf.keras.Model):\n",
        "    '''\n",
        "    Encoder model -- That takes a input sequence and returns output sequence\n",
        "    '''\n",
        "\n",
        "    def __init__(self,inp_vocab_size,embedding_size,lstm_size,input_length):\n",
        "\n",
        "        #Initialize Embedding layer\n",
        "        #Intialize Encoder LSTM layer\n",
        "        super().__init__()\n",
        "        self.lstm_output = 0\n",
        "        self.lstm_state_h = 0\n",
        "        self.lstm_state_c = 0 \n",
        "        self.vocab_size = inp_vocab_size\n",
        "        self.embedding_dim = embedding_size\n",
        "        self.input_length = input_length\n",
        "        self.enc_units= lstm_size\n",
        "        \n",
        "        self.embedding = Embedding(input_dim = self.vocab_size, output_dim = self.embedding_dim,input_length = self.input_length , \n",
        "                              mask_zero = True, name = 'encoder_embedding_1')\n",
        "        \n",
        "        self.lstm = LSTM(self.enc_units,return_sequences = True, return_state= True, name = 'encoder_LSTM_1')\n",
        "\n",
        "    def call(self,input_sequence,states):\n",
        "        \n",
        "        '''\n",
        "          This function takes a sequence input and the initial states of the encoder.\n",
        "          Pass the input_sequence input to the Embedding layer, Pass the embedding layer ouput to encoder_lstm\n",
        "          returns -- All encoder_outputs, last time steps hidden and cell state\n",
        "        '''\n",
        "        input_sentence = self.embedding(input_sequence)\n",
        "        \n",
        "        self.lstm_output,self.lstm_state_h,self.lstm_state_c = self.lstm(input_sentence,initial_state=states)\n",
        "        \n",
        "        return self.lstm_output, self.lstm_state_h,self.lstm_state_c\n",
        "    \n",
        "    def initialize_states(self,batch_size):\n",
        "        \n",
        "        '''\n",
        "        Given a batch size it will return intial hidden state and intial cell state.\n",
        "        If batch size is 32- Hidden state is zeros of size [32,lstm_units], cell state zeros is of size [32,lstm_units]\n",
        "        '''\n",
        "        \n",
        "        self.batch_size = batch_size\n",
        "        \n",
        "        return(tf.zeros([self.batch_size,self.enc_units]),\n",
        "             tf.zeros([self.batch_size,self.enc_units]))\n",
        "      \n"
      ],
      "metadata": {
        "id": "tFF0yZpbJWyB"
      },
      "execution_count": null,
      "outputs": []
    },
    {
      "cell_type": "code",
      "source": [
        "class Attention(tf.keras.layers.Layer):\n",
        "    '''\n",
        "    Class the calculates score based on the scoring_function using Bahdanu attention mechanism.\n",
        "    '''\n",
        "    def __init__(self,scoring_function, att_units):\n",
        "        \n",
        "        super(Attention,self).__init__()\n",
        "    # Please go through the reference notebook and research paper to complete the scoring functions\n",
        "    \n",
        "        self.scoring_function = scoring_function\n",
        "        \n",
        "        if self.scoring_function=='dot':\n",
        "          # Intialize variables needed for Dot score function here\n",
        "\n",
        "            pass\n",
        "        \n",
        "        if scoring_function == 'general':\n",
        "          # Intialize variables needed for General score function here\n",
        "\n",
        "            self.w = Dense(att_units)\n",
        "            \n",
        "            pass\n",
        "        \n",
        "        elif scoring_function == 'concat':\n",
        "          # Intialize variables needed for Concat score function here\n",
        "\n",
        "            self.w1 = Dense(att_units)\n",
        "            self.w2 = Dense(att_units)\n",
        "            self.v = Dense(1)\n",
        "            \n",
        "            pass\n",
        "\n",
        "\n",
        "    def call(self,decoder_hidden_state,encoder_output):\n",
        "        '''\n",
        "          Attention mechanism takes two inputs current step -- decoder_hidden_state and all the encoder_outputs.\n",
        "          * Based on the scoring function we will find the score or similarity between decoder_hidden_state and encoder_output.\n",
        "            Multiply the score function with your encoder_outputs to get the context vector.\n",
        "            Function returns context vector and attention weights(softmax - scores)\n",
        "        '''\n",
        "\n",
        "        if self.scoring_function == 'dot':\n",
        "            # Implement Dot score function here\n",
        "            \n",
        "            query_with_time_axis = tf.expand_dims(decoder_hidden_state,-1)  \n",
        "            score = tf.matmul(encoder_output,query_with_time_axis) \n",
        "            attention_weight = tf.nn.softmax(score,axis=1)\n",
        "            context_vector = attention_weight*encoder_output\n",
        "            context_vector = tf.reduce_sum(context_vector,axis=1)\n",
        "            \n",
        "            pass\n",
        "        elif self.scoring_function == 'general':\n",
        "            # Implement General score function here\n",
        "            \n",
        "            decoder_hidden_state = tf.expand_dims(decoder_hidden_state,-1)\n",
        "            score = self.w(encoder_output)\n",
        "            score = tf.matmul(score,decoder_hidden_state)\n",
        "            attention_weight = tf.nn.softmax(score,axis=1)\n",
        "            context_vector = attention_weight*encoder_output\n",
        "            context_vector = tf.reduce_sum(context_vector,axis=1)\n",
        "            \n",
        "            pass\n",
        "        elif self.scoring_function == 'concat':\n",
        "            # Implement General score function here\n",
        "            \n",
        "            decoder_hidden_state = tf.expand_dims(decoder_hidden_state,1)\n",
        "            score = self.v(tf.nn.tanh(self.w1(decoder_hidden_state) + self.w2(encoder_output)))\n",
        "            attention_weight = tf.nn.softmax(score,axis=1)\n",
        "            context_vector = attention_weight* encoder_output\n",
        "            context_vector = tf.reduce_sum(context_vector,axis=1)\n",
        "            \n",
        "            pass\n",
        "        \n",
        "        return context_vector,attention_weight\n",
        "\n"
      ],
      "metadata": {
        "id": "GhsWR0SrJg_c"
      },
      "execution_count": null,
      "outputs": []
    },
    {
      "cell_type": "code",
      "source": [
        "class OneStepDecoder(tf.keras.Model):\n",
        "    def __init__(self,out_vocab_size, embedding_dim, input_length, dec_units ,score_fun ,att_units):\n",
        "        super(OneStepDecoder,self).__init__()\n",
        "        \n",
        "        # Initialize decoder embedding layer, LSTM and any other objects needed\n",
        "        self.vocab_size = out_vocab_size #vocab_size eng\n",
        "        self.embedding_dim = embedding_dim\n",
        "        self.input_length = input_length\n",
        "        \n",
        "        self.embedding = Embedding(input_dim=self.vocab_size,output_dim=self.embedding_dim,input_length=self.input_length)\n",
        "                           \n",
        "        \n",
        "        self.lstm = LSTM(dec_units,return_state=True,\n",
        "                                   return_sequences = True)\n",
        "\n",
        "        self.dense = Dense(self.vocab_size)\n",
        "\n",
        "\n",
        "        self.attention = Attention(score_fun,att_units)\n",
        "\n",
        "\n",
        "    def call(self,input_to_decoder, encoder_output, state_h,state_c):\n",
        "        '''\n",
        "            One step decoder mechanisim step by step:\n",
        "          A. Pass the input_to_decoder to the embedding layer and then get the output(batch_size,1,embedding_dim)\n",
        "          B. Using the encoder_output and decoder hidden state, compute the context vector.\n",
        "          C. Concat the context vector with the step A output\n",
        "          D. Pass the Step-C output to LSTM/GRU and get the decoder output and states(hidden and cell state)\n",
        "          E. Pass the decoder output to dense layer(vocab size) and store the result into output.\n",
        "          F. Return the states from step D, output from Step E, attention weights from Step -B\n",
        "        '''\n",
        "\n",
        "        output = self.embedding(input_to_decoder)\n",
        "        \n",
        "        #print(\" Shape out put in OSD\", output.shape)\n",
        "\n",
        "        context_vector,attention_weight = self.attention.call(state_h,encoder_output)\n",
        "        \n",
        "        concatenated = tf.concat([tf.expand_dims(context_vector, 1), output], axis=-1)\n",
        "        \n",
        "        decoder_output,state_h,state_c =  self.lstm(concatenated,initial_state = [state_h,state_c])\n",
        "        \n",
        "        decoder_output = tf.reshape(decoder_output, (-1, decoder_output.shape[2]))\n",
        "        \n",
        "        output = self.dense(decoder_output)\n",
        "\n",
        "        return output,state_h,state_c,attention_weight,context_vector\n"
      ],
      "metadata": {
        "id": "3enFezcAJhyc"
      },
      "execution_count": null,
      "outputs": []
    },
    {
      "cell_type": "code",
      "source": [
        "class Decoder(tf.keras.Model):\n",
        "    def __init__(self,out_vocab_size, embedding_dim, input_length, dec_units ,score_fun ,att_units):\n",
        "      #Intialize necessary variables and create an object from the class onestepdecoder\n",
        "    \n",
        "        super(Decoder,self).__init__()\n",
        "        self.vocab_size = out_vocab_size\n",
        "        self.embedding_dim = embedding_dim\n",
        "        self.input_length = input_length#\n",
        "        self.score_fun = score_fun\n",
        "        self.dec_units= dec_units\n",
        "        self.att_units = att_units\n",
        "\n",
        "        self.onestepdecoder = OneStepDecoder(self.vocab_size, self.embedding_dim, self.input_length, self.dec_units,\n",
        "                                             self.score_fun ,self.att_units)\n",
        "    \n",
        "    def call(self, input_to_decoder,encoder_output,decoder_hidden_state,decoder_cell_state ):\n",
        "\n",
        "        #Initialize an empty Tensor array, that will store the outputs at each and every time step\n",
        "        #Create a tensor array as shown in the reference notebook\n",
        "\n",
        "        #Iterate till the length of the decoder input\n",
        "            # Call onestepdecoder for each token in decoder_input\n",
        "            # Store the output in tensorarray\n",
        "        # Return the tensor array\n",
        "        \n",
        "        _tensor = tf.TensorArray(tf.float32,size=input_to_decoder.shape[1])\n",
        "        \n",
        "        for timestep in range(input_to_decoder.shape[1]):\n",
        "            \n",
        "            output,decoder_hidden_state ,decoder_cell_state,attention_weights,context_vector = self.onestepdecoder\\\n",
        "            .call(input_to_decoder[:,timestep:timestep+1], encoder_output,decoder_hidden_state,decoder_cell_state)\n",
        "            \n",
        "            _tensor = _tensor.write(timestep,output)\n",
        "            \n",
        "        _tensor = tf.transpose(_tensor.stack(),[1,0,2])\n",
        "        \n",
        "        return _tensor\n",
        "\n",
        "        \n",
        "    "
      ],
      "metadata": {
        "id": "nQJhzxmRJm8Y"
      },
      "execution_count": null,
      "outputs": []
    },
    {
      "cell_type": "code",
      "source": [
        "class encoder_decoder(tf.keras.Model):\n",
        "    def __init__(self,lstm_size,encoder_input_length,\\\n",
        "                 decoder_input_length,score ,att_unit,batch_size,input_vocab_size,out_vocab_size ):\n",
        "    #Intialize objects from encoder decoder\n",
        "        super().__init__()\n",
        "        self.batch_size = batch_size\n",
        "        self.lstm_size = lstm_size #Encoder lstm units\n",
        "        self.att_unit = att_unit #decoder lstm units\n",
        "        self.input_vocab_size = input_vocab_size + 1 # Vocab size of italian \n",
        "        self.out_vocab_size = out_vocab_size +1 # Voacb size of eng\n",
        "\n",
        "        self.encoder = Encoder(inp_vocab_size = self.input_vocab_size ,embedding_size = 300,lstm_size = self.lstm_size,\n",
        "                               input_length=encoder_input_length)\n",
        "                 \n",
        "        self.decoder = Decoder(out_vocab_size = self.out_vocab_size, embedding_dim = 300, \\\n",
        "                               input_length = decoder_input_length, dec_units =  self.lstm_size ,score_fun= score ,att_units =self.att_unit)\n",
        "        \n",
        "        #self.dense = Dense(vocab_size_eng,activation='softmax')\n",
        "\n",
        "    def call(self,data):\n",
        "    #Intialize encoder states, Pass the encoder_sequence to the embedding layer\n",
        "    # Decoder initial states are encoder final states, Initia\n",
        "                 #lize it accordingly\n",
        "    # Pass the decoder sequence,encoder_output,decoder states to Decoder\n",
        "    # return the decoder output\n",
        "\n",
        "        input ,output = data[0],data[1]        \n",
        "\n",
        "        initital_state = self.encoder.initialize_states(self.batch_size)\n",
        "        \n",
        "        encoder_output,encoder_state_h,encoder_state_c = self.encoder.call(input,initital_state)\n",
        "        \n",
        "        output = self.decoder(output,encoder_output,encoder_state_h,encoder_state_c)\n",
        "        \n",
        "        #decoder_output = BatchNormalization()(decoder_output)\n",
        "        #output = self.dense(output)\n",
        "        return output"
      ],
      "metadata": {
        "id": "t2h97OxVJngs"
      },
      "execution_count": null,
      "outputs": []
    },
    {
      "cell_type": "code",
      "source": [
        "#https://www.tensorflow.org/tutorials/text/image_captioning#model\n",
        "loss_object = tf.keras.losses.SparseCategoricalCrossentropy(\n",
        "    from_logits=True, reduction='none')\n",
        "\n",
        "\n",
        "def loss_function(real, pred):\n",
        "    \"\"\" Custom loss function that will not consider the loss for padded zeros.\n",
        "    why are we using this, can't we use simple sparse categorical crossentropy?\n",
        "    Yes, you can use simple sparse categorical crossentropy as loss like we did in task-1. But in this loss function we are ignoring the loss\n",
        "    for the padded zeros. i.e when the input is zero then we donot need to worry what the output is. This padded zeros are added from our end\n",
        "    during preprocessing to make equal length for all the sentences.\n",
        "\n",
        "    \"\"\"\n",
        "    \n",
        "    \n",
        "    mask = tf.math.logical_not(tf.math.equal(real, 0))\n",
        "    loss_ = loss_object(real, pred)\n",
        "\n",
        "    mask = tf.cast(mask, dtype=loss_.dtype)\n",
        "    loss_ *= mask\n",
        "\n",
        "    return tf.reduce_mean(loss_)\n",
        "    "
      ],
      "metadata": {
        "id": "7xtH1yyPJsf_"
      },
      "execution_count": null,
      "outputs": []
    },
    {
      "cell_type": "code",
      "source": [
        "from tensorflow.keras.callbacks import ModelCheckpoint, TensorBoard\n",
        "\n",
        "\n",
        "log_dir = 'logs_1'\n",
        "tensorboard_1 = TensorBoard(log_dir= log_dir, histogram_freq= 1, write_graph= True)\n",
        "\n",
        "callbacks = [tensorboard_1]"
      ],
      "metadata": {
        "id": "cWBlxIblJxhZ"
      },
      "execution_count": null,
      "outputs": []
    },
    {
      "cell_type": "code",
      "source": [
        "#Call back function for Learning rate reducion\n",
        "from tensorflow.keras.callbacks import ModelCheckpoint,ReduceLROnPlateau\n",
        "reduce_lr = ReduceLROnPlateau(monitor='accuracy',factor=0.5,patience= 2,\n",
        "                              min_lr=0.0001)"
      ],
      "metadata": {
        "id": "nlf3s0DgJ1ay"
      },
      "execution_count": null,
      "outputs": []
    },
    {
      "cell_type": "code",
      "source": [
        "#Create an object of encoder_decoder Model class, \n",
        "# Compile the model and fit the model \n",
        "vocab_size_dec  = 10002\n",
        "\n",
        "model_2  = encoder_decoder(lstm_size = 256,encoder_input_length=20 ,decoder_input_length=21,score ='concat',att_unit = 256,batch_size = 512,\n",
        "                           input_vocab_size = vocab_size_dec,out_vocab_size = vocab_size_dec)\n",
        "\n",
        "optimizer = tf.keras.optimizers.Adam(lr = .005,clipvalue = .5)#, beta_1=0.9, beta_2=0.999, epsilon=1e-08, decay=0.0)\n",
        "model_2.compile(optimizer=optimizer,loss=loss_object,metrics = ['accuracy'])"
      ],
      "metadata": {
        "colab": {
          "base_uri": "https://localhost:8080/"
        },
        "id": "i80Wmw_8J45V",
        "outputId": "30c2a0ac-cb83-42c0-e3af-1e04e11c34ee"
      },
      "execution_count": null,
      "outputs": [
        {
          "output_type": "stream",
          "name": "stderr",
          "text": [
            "/usr/local/lib/python3.7/dist-packages/keras/optimizer_v2/adam.py:105: UserWarning: The `lr` argument is deprecated, use `learning_rate` instead.\n",
            "  super(Adam, self).__init__(name, **kwargs)\n"
          ]
        }
      ]
    },
    {
      "cell_type": "code",
      "source": [
        "model_2.fit(x_tr,y_tr,batch_size= 512,epochs= 100,steps_per_epoch = 128,callbacks = [reduce_lr,tensorboard_1])"
      ],
      "metadata": {
        "colab": {
          "base_uri": "https://localhost:8080/"
        },
        "id": "Hb_caoDYJ-zf",
        "outputId": "9b09cf6a-60b1-4215-fd39-94e2c842a75b"
      },
      "execution_count": null,
      "outputs": [
        {
          "output_type": "stream",
          "name": "stdout",
          "text": [
            "Epoch 1/100\n",
            "128/128 [==============================] - 57s 167ms/step - loss: 3.0094 - accuracy: 0.5708 - lr: 0.0050\n",
            "Epoch 2/100\n",
            "128/128 [==============================] - 21s 165ms/step - loss: 2.4765 - accuracy: 0.6102 - lr: 0.0050\n",
            "Epoch 3/100\n",
            "128/128 [==============================] - 21s 165ms/step - loss: 2.3682 - accuracy: 0.6216 - lr: 0.0050\n",
            "Epoch 4/100\n",
            "128/128 [==============================] - 21s 165ms/step - loss: 2.3143 - accuracy: 0.6256 - lr: 0.0050\n",
            "Epoch 5/100\n",
            "128/128 [==============================] - 21s 165ms/step - loss: 2.2794 - accuracy: 0.6277 - lr: 0.0050\n",
            "Epoch 6/100\n",
            "128/128 [==============================] - 21s 167ms/step - loss: 2.2463 - accuracy: 0.6301 - lr: 0.0050\n",
            "Epoch 7/100\n",
            "128/128 [==============================] - 21s 165ms/step - loss: 2.1940 - accuracy: 0.6323 - lr: 0.0050\n",
            "Epoch 8/100\n",
            "128/128 [==============================] - 21s 165ms/step - loss: 2.1346 - accuracy: 0.6354 - lr: 0.0050\n",
            "Epoch 9/100\n",
            "128/128 [==============================] - 21s 164ms/step - loss: 2.0941 - accuracy: 0.6382 - lr: 0.0050\n",
            "Epoch 10/100\n",
            "128/128 [==============================] - 21s 165ms/step - loss: 2.0632 - accuracy: 0.6400 - lr: 0.0050\n",
            "Epoch 11/100\n",
            "128/128 [==============================] - 21s 166ms/step - loss: 2.0113 - accuracy: 0.6439 - lr: 0.0050\n",
            "Epoch 12/100\n",
            "128/128 [==============================] - 21s 166ms/step - loss: 1.9662 - accuracy: 0.6475 - lr: 0.0050\n",
            "Epoch 13/100\n",
            "128/128 [==============================] - 21s 166ms/step - loss: 1.9407 - accuracy: 0.6494 - lr: 0.0050\n",
            "Epoch 14/100\n",
            "128/128 [==============================] - 21s 166ms/step - loss: 1.9082 - accuracy: 0.6513 - lr: 0.0050\n",
            "Epoch 15/100\n",
            "128/128 [==============================] - 21s 166ms/step - loss: 1.8486 - accuracy: 0.6565 - lr: 0.0050\n",
            "Epoch 16/100\n",
            "128/128 [==============================] - 21s 166ms/step - loss: 1.8300 - accuracy: 0.6579 - lr: 0.0050\n",
            "Epoch 17/100\n",
            "128/128 [==============================] - 21s 166ms/step - loss: 1.8012 - accuracy: 0.6607 - lr: 0.0050\n",
            "Epoch 18/100\n",
            "128/128 [==============================] - 21s 166ms/step - loss: 1.7369 - accuracy: 0.6669 - lr: 0.0050\n",
            "Epoch 19/100\n",
            "128/128 [==============================] - 21s 165ms/step - loss: 1.7061 - accuracy: 0.6699 - lr: 0.0050\n",
            "Epoch 20/100\n",
            "128/128 [==============================] - 21s 165ms/step - loss: 1.6831 - accuracy: 0.6729 - lr: 0.0050\n",
            "Epoch 21/100\n",
            "128/128 [==============================] - 21s 166ms/step - loss: 1.6384 - accuracy: 0.6780 - lr: 0.0050\n",
            "Epoch 22/100\n",
            "128/128 [==============================] - 21s 165ms/step - loss: 1.5866 - accuracy: 0.6846 - lr: 0.0050\n",
            "Epoch 23/100\n",
            "128/128 [==============================] - 21s 166ms/step - loss: 1.5669 - accuracy: 0.6867 - lr: 0.0050\n",
            "Epoch 24/100\n",
            "128/128 [==============================] - 21s 166ms/step - loss: 1.5446 - accuracy: 0.6903 - lr: 0.0050\n",
            "Epoch 25/100\n",
            "128/128 [==============================] - 21s 166ms/step - loss: 1.4664 - accuracy: 0.7014 - lr: 0.0050\n",
            "Epoch 26/100\n",
            "128/128 [==============================] - 21s 166ms/step - loss: 1.4506 - accuracy: 0.7037 - lr: 0.0050\n",
            "Epoch 27/100\n",
            "128/128 [==============================] - 21s 166ms/step - loss: 1.4423 - accuracy: 0.7046 - lr: 0.0050\n",
            "Epoch 28/100\n",
            "128/128 [==============================] - 21s 166ms/step - loss: 1.3814 - accuracy: 0.7145 - lr: 0.0050\n",
            "Epoch 29/100\n",
            "128/128 [==============================] - 21s 166ms/step - loss: 1.3493 - accuracy: 0.7194 - lr: 0.0050\n",
            "Epoch 30/100\n",
            "128/128 [==============================] - 21s 165ms/step - loss: 1.3369 - accuracy: 0.7218 - lr: 0.0050\n",
            "Epoch 31/100\n",
            "128/128 [==============================] - 21s 165ms/step - loss: 1.3089 - accuracy: 0.7262 - lr: 0.0050\n",
            "Epoch 32/100\n",
            "128/128 [==============================] - 21s 166ms/step - loss: 1.2568 - accuracy: 0.7351 - lr: 0.0050\n",
            "Epoch 33/100\n",
            "128/128 [==============================] - 21s 165ms/step - loss: 1.2424 - accuracy: 0.7373 - lr: 0.0050\n",
            "Epoch 34/100\n",
            "128/128 [==============================] - 21s 165ms/step - loss: 1.2444 - accuracy: 0.7371 - lr: 0.0050\n",
            "Epoch 35/100\n",
            "128/128 [==============================] - 21s 166ms/step - loss: 1.1836 - accuracy: 0.7480 - lr: 0.0050\n",
            "Epoch 36/100\n",
            "128/128 [==============================] - 21s 165ms/step - loss: 1.1702 - accuracy: 0.7502 - lr: 0.0050\n",
            "Epoch 37/100\n",
            "128/128 [==============================] - 21s 166ms/step - loss: 1.1607 - accuracy: 0.7519 - lr: 0.0050\n",
            "Epoch 38/100\n",
            "128/128 [==============================] - 21s 166ms/step - loss: 1.1380 - accuracy: 0.7561 - lr: 0.0050\n",
            "Epoch 39/100\n",
            "128/128 [==============================] - 21s 165ms/step - loss: 1.0910 - accuracy: 0.7650 - lr: 0.0050\n",
            "Epoch 40/100\n",
            "128/128 [==============================] - 21s 166ms/step - loss: 1.0984 - accuracy: 0.7632 - lr: 0.0050\n",
            "Epoch 41/100\n",
            "128/128 [==============================] - 21s 166ms/step - loss: 1.0980 - accuracy: 0.7628 - lr: 0.0050\n",
            "Epoch 42/100\n",
            "128/128 [==============================] - 21s 165ms/step - loss: 0.9813 - accuracy: 0.7869 - lr: 0.0025\n",
            "Epoch 43/100\n",
            "128/128 [==============================] - 21s 165ms/step - loss: 0.9468 - accuracy: 0.7948 - lr: 0.0025\n",
            "Epoch 44/100\n",
            "128/128 [==============================] - 21s 165ms/step - loss: 0.9402 - accuracy: 0.7968 - lr: 0.0025\n",
            "Epoch 45/100\n",
            "128/128 [==============================] - 21s 165ms/step - loss: 0.9083 - accuracy: 0.8035 - lr: 0.0025\n",
            "Epoch 46/100\n",
            "128/128 [==============================] - 21s 165ms/step - loss: 0.8900 - accuracy: 0.8075 - lr: 0.0025\n",
            "Epoch 47/100\n",
            "128/128 [==============================] - 21s 165ms/step - loss: 0.8855 - accuracy: 0.8084 - lr: 0.0025\n",
            "Epoch 48/100\n",
            "128/128 [==============================] - 21s 165ms/step - loss: 0.8767 - accuracy: 0.8102 - lr: 0.0025\n",
            "Epoch 49/100\n",
            "128/128 [==============================] - 21s 165ms/step - loss: 0.8477 - accuracy: 0.8163 - lr: 0.0025\n",
            "Epoch 50/100\n",
            "128/128 [==============================] - 21s 165ms/step - loss: 0.8470 - accuracy: 0.8168 - lr: 0.0025\n",
            "Epoch 51/100\n",
            "128/128 [==============================] - 21s 165ms/step - loss: 0.8450 - accuracy: 0.8168 - lr: 0.0025\n",
            "Epoch 52/100\n",
            "128/128 [==============================] - 21s 165ms/step - loss: 0.8203 - accuracy: 0.8219 - lr: 0.0025\n",
            "Epoch 53/100\n",
            "128/128 [==============================] - 21s 165ms/step - loss: 0.8078 - accuracy: 0.8247 - lr: 0.0025\n",
            "Epoch 54/100\n",
            "128/128 [==============================] - 21s 165ms/step - loss: 0.8123 - accuracy: 0.8234 - lr: 0.0025\n",
            "Epoch 55/100\n",
            "128/128 [==============================] - 21s 165ms/step - loss: 0.7994 - accuracy: 0.8260 - lr: 0.0025\n",
            "Epoch 56/100\n",
            "128/128 [==============================] - 21s 165ms/step - loss: 0.7784 - accuracy: 0.8305 - lr: 0.0025\n",
            "Epoch 57/100\n",
            "128/128 [==============================] - 21s 165ms/step - loss: 0.7795 - accuracy: 0.8302 - lr: 0.0025\n",
            "Epoch 58/100\n",
            "128/128 [==============================] - 21s 165ms/step - loss: 0.7798 - accuracy: 0.8302 - lr: 0.0025\n",
            "Epoch 59/100\n",
            "128/128 [==============================] - 21s 165ms/step - loss: 0.7222 - accuracy: 0.8435 - lr: 0.0012\n",
            "Epoch 60/100\n",
            "128/128 [==============================] - 21s 166ms/step - loss: 0.7057 - accuracy: 0.8484 - lr: 0.0012\n",
            "Epoch 61/100\n",
            "128/128 [==============================] - 21s 165ms/step - loss: 0.6959 - accuracy: 0.8503 - lr: 0.0012\n",
            "Epoch 62/100\n",
            "128/128 [==============================] - 21s 166ms/step - loss: 0.6852 - accuracy: 0.8531 - lr: 0.0012\n",
            "Epoch 63/100\n",
            "128/128 [==============================] - 21s 166ms/step - loss: 0.6767 - accuracy: 0.8553 - lr: 0.0012\n",
            "Epoch 64/100\n",
            "128/128 [==============================] - 21s 166ms/step - loss: 0.6741 - accuracy: 0.8555 - lr: 0.0012\n",
            "Epoch 65/100\n",
            "128/128 [==============================] - 21s 166ms/step - loss: 0.6747 - accuracy: 0.8554 - lr: 0.0012\n",
            "Epoch 66/100\n",
            "128/128 [==============================] - 21s 166ms/step - loss: 0.6540 - accuracy: 0.8598 - lr: 0.0012\n",
            "Epoch 67/100\n",
            "128/128 [==============================] - 21s 166ms/step - loss: 0.6552 - accuracy: 0.8598 - lr: 0.0012\n",
            "Epoch 68/100\n",
            "128/128 [==============================] - 21s 166ms/step - loss: 0.6587 - accuracy: 0.8589 - lr: 0.0012\n",
            "Epoch 69/100\n",
            "128/128 [==============================] - 21s 166ms/step - loss: 0.6274 - accuracy: 0.8662 - lr: 6.2500e-04\n",
            "Epoch 70/100\n",
            "128/128 [==============================] - 21s 166ms/step - loss: 0.6194 - accuracy: 0.8685 - lr: 6.2500e-04\n",
            "Epoch 71/100\n",
            "128/128 [==============================] - 21s 165ms/step - loss: 0.6181 - accuracy: 0.8688 - lr: 6.2500e-04\n",
            "Epoch 72/100\n",
            "128/128 [==============================] - 21s 166ms/step - loss: 0.6108 - accuracy: 0.8709 - lr: 6.2500e-04\n",
            "Epoch 73/100\n",
            "128/128 [==============================] - 21s 166ms/step - loss: 0.6046 - accuracy: 0.8722 - lr: 6.2500e-04\n",
            "Epoch 74/100\n",
            "128/128 [==============================] - 21s 166ms/step - loss: 0.6038 - accuracy: 0.8720 - lr: 6.2500e-04\n",
            "Epoch 75/100\n",
            "128/128 [==============================] - 21s 166ms/step - loss: 0.6030 - accuracy: 0.8724 - lr: 6.2500e-04\n",
            "Epoch 76/100\n",
            "128/128 [==============================] - 21s 166ms/step - loss: 0.5933 - accuracy: 0.8745 - lr: 6.2500e-04\n",
            "Epoch 77/100\n",
            "128/128 [==============================] - 22s 169ms/step - loss: 0.5930 - accuracy: 0.8748 - lr: 6.2500e-04\n",
            "Epoch 78/100\n",
            "128/128 [==============================] - 21s 164ms/step - loss: 0.5938 - accuracy: 0.8745 - lr: 6.2500e-04\n",
            "Epoch 79/100\n",
            "128/128 [==============================] - 21s 166ms/step - loss: 0.5880 - accuracy: 0.8758 - lr: 6.2500e-04\n",
            "Epoch 80/100\n",
            "128/128 [==============================] - 21s 166ms/step - loss: 0.5845 - accuracy: 0.8765 - lr: 6.2500e-04\n",
            "Epoch 81/100\n",
            "128/128 [==============================] - 21s 165ms/step - loss: 0.5823 - accuracy: 0.8770 - lr: 6.2500e-04\n",
            "Epoch 82/100\n",
            "128/128 [==============================] - 21s 166ms/step - loss: 0.5829 - accuracy: 0.8769 - lr: 6.2500e-04\n",
            "Epoch 83/100\n",
            "128/128 [==============================] - 21s 166ms/step - loss: 0.5738 - accuracy: 0.8791 - lr: 6.2500e-04\n",
            "Epoch 84/100\n",
            "128/128 [==============================] - 21s 166ms/step - loss: 0.5719 - accuracy: 0.8792 - lr: 6.2500e-04\n",
            "Epoch 85/100\n",
            "128/128 [==============================] - 21s 165ms/step - loss: 0.5726 - accuracy: 0.8792 - lr: 6.2500e-04\n",
            "Epoch 86/100\n",
            "128/128 [==============================] - 21s 165ms/step - loss: 0.5594 - accuracy: 0.8822 - lr: 3.1250e-04\n",
            "Epoch 87/100\n",
            "128/128 [==============================] - 21s 165ms/step - loss: 0.5559 - accuracy: 0.8834 - lr: 3.1250e-04\n",
            "Epoch 88/100\n",
            "128/128 [==============================] - 21s 166ms/step - loss: 0.5505 - accuracy: 0.8847 - lr: 3.1250e-04\n",
            "Epoch 89/100\n",
            "128/128 [==============================] - 21s 166ms/step - loss: 0.5520 - accuracy: 0.8844 - lr: 3.1250e-04\n",
            "Epoch 90/100\n",
            "128/128 [==============================] - 21s 166ms/step - loss: 0.5445 - accuracy: 0.8860 - lr: 3.1250e-04\n",
            "Epoch 91/100\n",
            "128/128 [==============================] - 21s 166ms/step - loss: 0.5475 - accuracy: 0.8852 - lr: 3.1250e-04\n",
            "Epoch 92/100\n",
            "128/128 [==============================] - 21s 166ms/step - loss: 0.5455 - accuracy: 0.8858 - lr: 3.1250e-04\n",
            "Epoch 93/100\n",
            "128/128 [==============================] - 21s 166ms/step - loss: 0.5372 - accuracy: 0.8878 - lr: 1.5625e-04\n",
            "Epoch 94/100\n",
            "128/128 [==============================] - 21s 166ms/step - loss: 0.5366 - accuracy: 0.8880 - lr: 1.5625e-04\n",
            "Epoch 95/100\n",
            "128/128 [==============================] - 21s 166ms/step - loss: 0.5342 - accuracy: 0.8886 - lr: 1.5625e-04\n",
            "Epoch 96/100\n",
            "128/128 [==============================] - 21s 165ms/step - loss: 0.5373 - accuracy: 0.8877 - lr: 1.5625e-04\n",
            "Epoch 97/100\n",
            "128/128 [==============================] - 21s 166ms/step - loss: 0.5307 - accuracy: 0.8895 - lr: 1.5625e-04\n",
            "Epoch 98/100\n",
            "128/128 [==============================] - 21s 166ms/step - loss: 0.5340 - accuracy: 0.8884 - lr: 1.5625e-04\n",
            "Epoch 99/100\n",
            "128/128 [==============================] - 21s 166ms/step - loss: 0.5328 - accuracy: 0.8889 - lr: 1.5625e-04\n",
            "Epoch 100/100\n",
            "128/128 [==============================] - 21s 165ms/step - loss: 0.5283 - accuracy: 0.8899 - lr: 1.0000e-04\n"
          ]
        },
        {
          "output_type": "execute_result",
          "data": {
            "text/plain": [
              "<keras.callbacks.History at 0x7f74fcd37590>"
            ]
          },
          "metadata": {},
          "execution_count": 31
        }
      ]
    },
    {
      "cell_type": "code",
      "source": [
        "import tensorflow, tensorboard\n",
        "%reload_ext tensorboard\n",
        "%tensorboard --logdir logs_1/"
      ],
      "metadata": {
        "colab": {
          "base_uri": "https://localhost:8080/",
          "height": 821
        },
        "id": "hcj_933-ocu2",
        "outputId": "2837bb28-0430-456a-9198-eea6ce77ed82"
      },
      "execution_count": null,
      "outputs": []
    },
    {
      "cell_type": "code",
      "source": [
        "def plot_attention(attention_weight,sentence, predicted_sentence):\n",
        "  #Refer: https://www.tensorflow.org/tutorials/text/nmt_with_attention#translate\n",
        "    import matplotlib.ticker as ticker\n",
        "    fig = plt.figure(figsize=(10,10))\n",
        "    ax = fig.add_subplot(1, 1, 1)\n",
        "    cax = ax.matshow(attention_weight, cmap='viridis')\n",
        "    fig.colorbar(cax)\n",
        "    fontdict = {'fontsize': 14}\n",
        "\n",
        "    ax.set_xticklabels([''] + sentence, fontdict=fontdict, rotation=90)\n",
        "    ax.set_yticklabels([''] + predicted_sentence, fontdict=fontdict)\n",
        "\n",
        "    ax.xaxis.set_major_locator(ticker.MultipleLocator(1))\n",
        "    ax.yaxis.set_major_locator(ticker.MultipleLocator(1))\n",
        "\n",
        "    plt.show()\n"
      ],
      "metadata": {
        "id": "K7TlnQbWKgIk"
      },
      "execution_count": null,
      "outputs": []
    },
    {
      "cell_type": "code",
      "source": [
        "def predict(model_2,input_sentence):\n",
        "\n",
        "    '''\n",
        "    A. Given input sentence, convert the sentence into integers using tokenizer used earlier\n",
        "    B. Pass the input_sequence to encoder. we get encoder_outputs, last time step hidden and cell state\n",
        "    C. Initialize index of <start> as input to decoder. and encoder final states as input_states to onestepdecoder.\n",
        "    D. till we reach max_length of decoder or till the model predicted word <end>:\n",
        "         predictions, input_states, attention_weights = model.layers[1].onestepdecoder(input_to_decoder, encoder_output, input_states)\n",
        "         Save the attention weights\n",
        "         And get the word using the tokenizer(word index) and then store it in a string.\n",
        "    E. Call plot_attention(#params)\n",
        "    F. Return the predicted sentence\n",
        "    '''\n",
        "    output_length= 21\n",
        "    input_length = 20\n",
        "    attention_plot = np.zeros((output_length,input_length))\n",
        "\n",
        "    encoder_units = 256\n",
        "    text = preprocess(input_sentence)\n",
        "    \n",
        "    preprocessed_sentence = text\n",
        "    \n",
        "    text = [tokenizer.word_index[i] for i in text.split(\" \") if i in tokenizer.word_index.keys()]\n",
        "\n",
        "    text = tf.keras.preprocessing.sequence.pad_sequences([text],\n",
        "                                                         maxlen= input_length,padding='post')\n",
        "\n",
        "    enc_out, enc_h,enc_c = model_2.layers[0](text, [tf.zeros((1, encoder_units)),tf.zeros((1, encoder_units))])\n",
        "\n",
        "    cur_vec = tf.expand_dims([tokenizer.word_index['<start>']] , 0)\n",
        "\n",
        "\n",
        "    sentence = []\n",
        "\n",
        "\n",
        "    for t in range(output_length):\n",
        "\n",
        "        predictions,enc_h,enc_c, attention_weights,context_vector =model_2.layers[1].onestepdecoder(cur_vec,\n",
        "                                                         enc_out, enc_h,enc_c)\n",
        "\n",
        "        #prdictions = model_2.layers[2](predictions)\n",
        "\n",
        "        #states_values = [state_h, state_c]\n",
        "        cur_vec = np.reshape(np.argmax(predictions), (1, 1))\n",
        "        word = tokenizer.index_word[tf.argmax(predictions[0]).numpy()]\n",
        "\n",
        "\n",
        "        # storing the attention weights to plot later on\n",
        "        attention_weights = tf.reshape(attention_weights, (-1, ))\n",
        "        attention_plot[t] = attention_weights.numpy()\n",
        "\n",
        "        predicted_id = tf.argmax(predictions[0]).numpy()\n",
        "\n",
        "        #print(predicted_id)\n",
        "\n",
        "        #result += targ_lang_tokenizer.index_word[predicted_id] + ' '\n",
        "\n",
        "        if word == '<end>': \n",
        "            #sentence.append(word) \n",
        "            break # to end the loop while '<end>' is the return\n",
        "        \n",
        "        sentence.append(word)\n",
        "    \n",
        "\n",
        "    result = \" \".join(sentence) \n",
        "\n",
        "    return result, preprocessed_sentence, attention_plot\n"
      ],
      "metadata": {
        "id": "l00Y_D_gSwhe"
      },
      "execution_count": null,
      "outputs": []
    },
    {
      "cell_type": "code",
      "source": [
        "def translate(model,sentence):\n",
        "    import matplotlib.pyplot as plt\n",
        "    result, sent, attention_plot = predict(model,sentence)\n",
        "\n",
        "    print('Input: %s' % (sent))\n",
        "    print('Predicted translation: {}'.format(result))\n",
        "\n",
        "    attention_plot = attention_plot[:len(result.split(' ')), :len(sent.split(' '))]\n",
        "    plot_attention(attention_plot, sent.split(' '), result.split(' '))\n",
        "\n",
        "    return sentence,result"
      ],
      "metadata": {
        "id": "bNww6dirS-lr"
      },
      "execution_count": null,
      "outputs": []
    },
    {
      "cell_type": "code",
      "source": [
        "#Sentence 1\n",
        "i= 107\n",
        "import matplotlib.pyplot as plt\n",
        "translate(model_2,enc_sentences[i])\n",
        "print(target_sent[i])"
      ],
      "metadata": {
        "colab": {
          "base_uri": "https://localhost:8080/",
          "height": 626
        },
        "id": "09H3nG23S1D4",
        "outputId": "2c6e0a50-d194-4e29-87a3-d1cb9da631b7"
      },
      "execution_count": null,
      "outputs": [
        {
          "output_type": "stream",
          "name": "stdout",
          "text": [
            "Input: no really i do not drink coffee anymore i used to love it but my tastes have changed recently\n",
            "Predicted translation: you know tom you are going to have a reputation that is how many murders\n"
          ]
        },
        {
          "output_type": "display_data",
          "data": {
            "text/plain": [
              "<Figure size 720x720 with 2 Axes>"
            ],
            "image/png": "[encoded data removed]"
          },
          "metadata": {
            "needs_background": "light"
          }
        },
        {
          "output_type": "stream",
          "name": "stdout",
          "text": [
            "okay well maybe some other time they continue walking together\n"
          ]
        }
      ]
    },
    {
      "cell_type": "code",
      "source": [
        "#Sentence 1\n",
        "import matplotlib.pyplot as plt\n",
        "translate(model_2,\"I hate being with you\")"
      ],
      "metadata": {
        "colab": {
          "base_uri": "https://localhost:8080/",
          "height": 626
        },
        "id": "3tVb6pqQTuIn",
        "outputId": "30fe9b55-cd50-4aa0-c7f6-f9b1cdd4ec7c"
      },
      "execution_count": null,
      "outputs": [
        {
          "output_type": "stream",
          "name": "stdout",
          "text": [
            "Input: i hate being with you\n",
            "Predicted translation: you do not love me\n"
          ]
        },
        {
          "output_type": "display_data",
          "data": {
            "text/plain": [
              "<Figure size 720x720 with 2 Axes>"
            ],
            "image/png": "[encoded data removed]"
          },
          "metadata": {
            "needs_background": "light"
          }
        },
        {
          "output_type": "execute_result",
          "data": {
            "text/plain": [
              "('I hate being with you', 'you do not love me')"
            ]
          },
          "metadata": {},
          "execution_count": 60
        }
      ]
    },
    {
      "cell_type": "code",
      "source": [
        "#Sentence 1\n",
        "import matplotlib.pyplot as plt\n",
        "translate(model_2,\"No I dont love you\")"
      ],
      "metadata": {
        "colab": {
          "base_uri": "https://localhost:8080/",
          "height": 626
        },
        "id": "iy6TB7BOw_9v",
        "outputId": "d17be11a-0599-40f6-a3e5-de9d34f8a5b3"
      },
      "execution_count": null,
      "outputs": [
        {
          "output_type": "stream",
          "name": "stdout",
          "text": [
            "Input: no i dont love you\n",
            "Predicted translation: happy for me\n"
          ]
        },
        {
          "output_type": "display_data",
          "data": {
            "text/plain": [
              "<Figure size 720x720 with 2 Axes>"
            ],
            "image/png": "[encoded data removed]"
          },
          "metadata": {
            "needs_background": "light"
          }
        },
        {
          "output_type": "execute_result",
          "data": {
            "text/plain": [
              "('No I dont love you', 'happy for me')"
            ]
          },
          "metadata": {},
          "execution_count": 61
        }
      ]
    },
    {
      "cell_type": "code",
      "source": [
        "#Sentence 1\n",
        "import matplotlib.pyplot as plt\n",
        "translate(model_2,\"do you like to play\")"
      ],
      "metadata": {
        "colab": {
          "base_uri": "https://localhost:8080/",
          "height": 626
        },
        "id": "ZXMeuHtuxGC-",
        "outputId": "3c88f3af-fab2-437a-b2b5-70d8aa14c58e"
      },
      "execution_count": null,
      "outputs": [
        {
          "output_type": "stream",
          "name": "stdout",
          "text": [
            "Input: do you like to play\n",
            "Predicted translation: i do not think so\n"
          ]
        },
        {
          "output_type": "display_data",
          "data": {
            "text/plain": [
              "<Figure size 720x720 with 2 Axes>"
            ],
            "image/png": "[encoded data removed]"
          },
          "metadata": {
            "needs_background": "light"
          }
        },
        {
          "output_type": "execute_result",
          "data": {
            "text/plain": [
              "('do you like to play', 'i do not think so')"
            ]
          },
          "metadata": {},
          "execution_count": 67
        }
      ]
    },
    {
      "cell_type": "code",
      "source": [
        "#Sentence 1\n",
        "import matplotlib.pyplot as plt\n",
        "translate(model_2,\"I want to kill you now\")"
      ],
      "metadata": {
        "colab": {
          "base_uri": "https://localhost:8080/",
          "height": 626
        },
        "id": "0ZH8-ECEx7yt",
        "outputId": "df52b5f3-f6d3-4a19-8b23-87f09866ba22"
      },
      "execution_count": null,
      "outputs": [
        {
          "output_type": "stream",
          "name": "stdout",
          "text": [
            "Input: i want to kill you now\n",
            "Predicted translation: you do not have to\n"
          ]
        },
        {
          "output_type": "display_data",
          "data": {
            "text/plain": [
              "<Figure size 720x720 with 2 Axes>"
            ],
            "image/png": "[encoded data removed]"
          },
          "metadata": {
            "needs_background": "light"
          }
        },
        {
          "output_type": "execute_result",
          "data": {
            "text/plain": [
              "('I want to kill you now', 'you do not have to')"
            ]
          },
          "metadata": {},
          "execution_count": 75
        }
      ]
    },
    {
      "cell_type": "code",
      "source": [
        "#Sentence 1\n",
        "import matplotlib.pyplot as plt\n",
        "translate(model_2,\"Will you come with me for dinner\")"
      ],
      "metadata": {
        "colab": {
          "base_uri": "https://localhost:8080/",
          "height": 626
        },
        "id": "7LrS8v74yZYZ",
        "outputId": "47d57a4d-3518-4662-ae59-7a7890b3bb0c"
      },
      "execution_count": null,
      "outputs": [
        {
          "output_type": "stream",
          "name": "stdout",
          "text": [
            "Input: will you come with me for dinner\n",
            "Predicted translation: are you sure\n"
          ]
        },
        {
          "output_type": "display_data",
          "data": {
            "text/plain": [
              "<Figure size 720x720 with 2 Axes>"
            ],
            "image/png": "[encoded data removed]"
          },
          "metadata": {
            "needs_background": "light"
          }
        },
        {
          "output_type": "execute_result",
          "data": {
            "text/plain": [
              "('Will you come with me for dinner', 'are you sure')"
            ]
          },
          "metadata": {},
          "execution_count": 77
        }
      ]
    },
    {
      "cell_type": "code",
      "source": [
        "#Sentence 1\n",
        "import matplotlib.pyplot as plt\n",
        "translate(model_2,\"yes we can have dinner tonight\")"
      ],
      "metadata": {
        "colab": {
          "base_uri": "https://localhost:8080/",
          "height": 626
        },
        "id": "on1T5PQwykga",
        "outputId": "f8a46d4a-445c-4336-cbca-8f665e95efef"
      },
      "execution_count": null,
      "outputs": [
        {
          "output_type": "stream",
          "name": "stdout",
          "text": [
            "Input: yes we can have dinner tonight\n",
            "Predicted translation: we are very excited\n"
          ]
        },
        {
          "output_type": "display_data",
          "data": {
            "text/plain": [
              "<Figure size 720x720 with 2 Axes>"
            ],
            "image/png": "[encoded data removed]"
          },
          "metadata": {
            "needs_background": "light"
          }
        },
        {
          "output_type": "execute_result",
          "data": {
            "text/plain": [
              "('yes we can have dinner tonight', 'we are very excited')"
            ]
          },
          "metadata": {},
          "execution_count": 81
        }
      ]
    },
    {
      "cell_type": "code",
      "source": [
        "#Sentence 1\n",
        "import matplotlib.pyplot as plt\n",
        "translate(model_2,\"I love you idiot\")"
      ],
      "metadata": {
        "colab": {
          "base_uri": "https://localhost:8080/",
          "height": 668
        },
        "id": "xcdi9IcBy3F8",
        "outputId": "e44aae00-8068-49cb-ba22-40e98cc7be9d"
      },
      "execution_count": null,
      "outputs": [
        {
          "output_type": "stream",
          "name": "stdout",
          "text": [
            "Input: i love you idiot\n",
            "Predicted translation: i will give you a friend of mine\n"
          ]
        },
        {
          "output_type": "display_data",
          "data": {
            "text/plain": [
              "<Figure size 720x720 with 2 Axes>"
            ],
            "image/png": "[encoded data removed]"
          },
          "metadata": {
            "needs_background": "light"
          }
        },
        {
          "output_type": "execute_result",
          "data": {
            "text/plain": [
              "('I love you idiot', 'i will give you a friend of mine')"
            ]
          },
          "metadata": {},
          "execution_count": 90
        }
      ]
    },
    {
      "cell_type": "code",
      "source": [
        "#Sentence 1\n",
        "import matplotlib.pyplot as plt\n",
        "translate(model_2,\"bye see you soon\")"
      ],
      "metadata": {
        "colab": {
          "base_uri": "https://localhost:8080/",
          "height": 687
        },
        "id": "ZlgzMMMKT3B6",
        "outputId": "4d0d87b8-173f-408f-f0a5-31d51f3ce230"
      },
      "execution_count": null,
      "outputs": [
        {
          "output_type": "stream",
          "name": "stdout",
          "text": [
            "Input: bye see you soon\n",
            "Predicted translation: right right i am sorry we are going to be a real nice day\n"
          ]
        },
        {
          "output_type": "display_data",
          "data": {
            "text/plain": [
              "<Figure size 720x720 with 2 Axes>"
            ],
            "image/png": "[encoded data removed]"
          },
          "metadata": {
            "needs_background": "light"
          }
        },
        {
          "output_type": "execute_result",
          "data": {
            "text/plain": [
              "('bye see you soon',\n",
              " 'right right i am sorry we are going to be a real nice day')"
            ]
          },
          "metadata": {},
          "execution_count": 42
        }
      ]
    },
    {
      "cell_type": "code",
      "source": [
        "#Sentence 1\n",
        "import matplotlib.pyplot as plt\n",
        "translate(model_2,\"I hate you never come\")"
      ],
      "metadata": {
        "colab": {
          "base_uri": "https://localhost:8080/",
          "height": 626
        },
        "id": "NVeUKNlfeRUS",
        "outputId": "bf28363b-f04f-4e1d-db72-6fcd7bf0103e"
      },
      "execution_count": null,
      "outputs": [
        {
          "output_type": "stream",
          "name": "stdout",
          "text": [
            "Input: i hate you never come\n",
            "Predicted translation: why would i do that\n"
          ]
        },
        {
          "output_type": "display_data",
          "data": {
            "text/plain": [
              "<Figure size 720x720 with 2 Axes>"
            ],
            "image/png": "[encoded data removed]"
          },
          "metadata": {
            "needs_background": "light"
          }
        },
        {
          "output_type": "execute_result",
          "data": {
            "text/plain": [
              "('I hate you never come', 'why would i do that')"
            ]
          },
          "metadata": {},
          "execution_count": 100
        }
      ]
    },
    {
      "cell_type": "code",
      "source": [
        "#Sentence 1\n",
        "import matplotlib.pyplot as plt\n",
        "translate(model_2,\"it was nice meating you\")"
      ],
      "metadata": {
        "colab": {
          "base_uri": "https://localhost:8080/",
          "height": 630
        },
        "id": "I_MI4vZDec1-",
        "outputId": "3309a0cc-aaed-4d45-a222-25c6ec32c4a9"
      },
      "execution_count": null,
      "outputs": [
        {
          "output_type": "stream",
          "name": "stdout",
          "text": [
            "Input: it was nice meating you\n",
            "Predicted translation: yes i am sorry\n"
          ]
        },
        {
          "output_type": "display_data",
          "data": {
            "text/plain": [
              "<Figure size 720x720 with 2 Axes>"
            ],
            "image/png": "[encoded data removed]"
          },
          "metadata": {
            "needs_background": "light"
          }
        },
        {
          "output_type": "execute_result",
          "data": {
            "text/plain": [
              "('it was nice meating you', 'yes i am sorry')"
            ]
          },
          "metadata": {},
          "execution_count": 94
        }
      ]
    },
    {
      "cell_type": "code",
      "source": [
        "import matplotlib.pyplot as plt\n",
        "translate(model_2,\"how are you\")"
      ],
      "metadata": {
        "colab": {
          "base_uri": "https://localhost:8080/",
          "height": 626
        },
        "id": "DQ50pRF-jIZk",
        "outputId": "1aa1b431-1bf2-45aa-8586-772cd50132dc"
      },
      "execution_count": null,
      "outputs": [
        {
          "output_type": "stream",
          "name": "stdout",
          "text": [
            "Input: how are you\n",
            "Predicted translation: fine thank you\n"
          ]
        },
        {
          "output_type": "display_data",
          "data": {
            "text/plain": [
              "<Figure size 720x720 with 2 Axes>"
            ],
            "image/png": "[encoded data removed]"
          },
          "metadata": {
            "needs_background": "light"
          }
        },
        {
          "output_type": "execute_result",
          "data": {
            "text/plain": [
              "('how are you', 'fine thank you')"
            ]
          },
          "metadata": {},
          "execution_count": 45
        }
      ]
    },
    {
      "cell_type": "code",
      "source": [
        "import matplotlib.pyplot as plt\n",
        "translate(model_2,\"Hi how are you mom\")"
      ],
      "metadata": {
        "colab": {
          "base_uri": "https://localhost:8080/",
          "height": 690
        },
        "id": "Kin6GlyalY4Z",
        "outputId": "40e0131d-0b6e-4146-cfa3-c07031e22446"
      },
      "execution_count": null,
      "outputs": [
        {
          "output_type": "stream",
          "name": "stdout",
          "text": [
            "Input: hi how are you mom\n",
            "Predicted translation: my name is <unk> birthday you man are not <unk> a girl i am um <unk>\n"
          ]
        },
        {
          "output_type": "display_data",
          "data": {
            "text/plain": [
              "<Figure size 720x720 with 2 Axes>"
            ],
            "image/png": "[encoded data removed]"
          },
          "metadata": {
            "needs_background": "light"
          }
        },
        {
          "output_type": "execute_result",
          "data": {
            "text/plain": [
              "('Hi how are you mom',\n",
              " 'my name is <unk> birthday you man are not <unk> a girl i am um <unk>')"
            ]
          },
          "metadata": {},
          "execution_count": 46
        }
      ]
    },
    {
      "cell_type": "code",
      "source": [
        "import matplotlib.pyplot as plt\n",
        "translate(model_2,\"good night see you tomorrow\")"
      ],
      "metadata": {
        "colab": {
          "base_uri": "https://localhost:8080/",
          "height": 704
        },
        "id": "9JoGjNoxiIRd",
        "outputId": "dfb75b25-1183-4186-d31b-7d05416b999f"
      },
      "execution_count": null,
      "outputs": [
        {
          "output_type": "stream",
          "name": "stdout",
          "text": [
            "Input: good night see you tomorrow\n",
            "Predicted translation: good night see what is oh bring him it\n"
          ]
        },
        {
          "output_type": "display_data",
          "data": {
            "text/plain": [
              "<Figure size 720x720 with 2 Axes>"
            ],
            "image/png": "[encoded data removed]"
          },
          "metadata": {
            "needs_background": "light"
          }
        },
        {
          "output_type": "execute_result",
          "data": {
            "text/plain": [
              "('good night see you tomorrow', 'good night see what is oh bring him it')"
            ]
          },
          "metadata": {},
          "execution_count": 47
        }
      ]
    },
    {
      "cell_type": "code",
      "source": [
        "import matplotlib.pyplot as plt\n",
        "translate(model_2,\"come back i love you\")"
      ],
      "metadata": {
        "colab": {
          "base_uri": "https://localhost:8080/",
          "height": 626
        },
        "id": "ra2dBaEHiYM8",
        "outputId": "90127c2f-c8dd-49f1-fcdb-5deff86067b3"
      },
      "execution_count": null,
      "outputs": [
        {
          "output_type": "stream",
          "name": "stdout",
          "text": [
            "Input: come back i love you\n",
            "Predicted translation: i love you\n"
          ]
        },
        {
          "output_type": "display_data",
          "data": {
            "text/plain": [
              "<Figure size 720x720 with 2 Axes>"
            ],
            "image/png": "[encoded data removed]"
          },
          "metadata": {
            "needs_background": "light"
          }
        },
        {
          "output_type": "execute_result",
          "data": {
            "text/plain": [
              "('come back i love you', 'i love you')"
            ]
          },
          "metadata": {},
          "execution_count": 48
        }
      ]
    },
    {
      "cell_type": "code",
      "source": [
        "import matplotlib.pyplot as plt\n",
        "translate(model_2,\"Stay blessed be happy\")"
      ],
      "metadata": {
        "colab": {
          "base_uri": "https://localhost:8080/",
          "height": 708
        },
        "id": "tHw_hMnVjTxX",
        "outputId": "080f860c-b846-4af9-925d-1199938e4078"
      },
      "execution_count": null,
      "outputs": [
        {
          "output_type": "stream",
          "name": "stdout",
          "text": [
            "Input: stay blessed be happy\n",
            "Predicted translation: mr van ryan i am <unk> the world i should be happy to you\n"
          ]
        },
        {
          "output_type": "display_data",
          "data": {
            "text/plain": [
              "<Figure size 720x720 with 2 Axes>"
            ],
            "image/png": "[encoded data removed]"
          },
          "metadata": {
            "needs_background": "light"
          }
        },
        {
          "output_type": "execute_result",
          "data": {
            "text/plain": [
              "('Stay blessed be happy',\n",
              " 'mr van ryan i am <unk> the world i should be happy to you')"
            ]
          },
          "metadata": {},
          "execution_count": 49
        }
      ]
    },
    {
      "cell_type": "code",
      "source": [
        "import matplotlib.pyplot as plt\n",
        "translate(model_2,\"I love you\")"
      ],
      "metadata": {
        "colab": {
          "base_uri": "https://localhost:8080/",
          "height": 626
        },
        "id": "k0IlAU-rlUm3",
        "outputId": "3454956e-f10a-402d-eabc-f9a107a6d69a"
      },
      "execution_count": null,
      "outputs": [
        {
          "output_type": "stream",
          "name": "stdout",
          "text": [
            "Input: i love you\n",
            "Predicted translation: i love you\n"
          ]
        },
        {
          "output_type": "display_data",
          "data": {
            "text/plain": [
              "<Figure size 720x720 with 2 Axes>"
            ],
            "image/png": "[encoded data removed]"
          },
          "metadata": {
            "needs_background": "light"
          }
        },
        {
          "output_type": "execute_result",
          "data": {
            "text/plain": [
              "('I love you', 'i love you')"
            ]
          },
          "metadata": {},
          "execution_count": 50
        }
      ]
    },
    {
      "cell_type": "code",
      "source": [
        "import matplotlib.pyplot as plt\n",
        "translate(model_2,\"I hate you\")"
      ],
      "metadata": {
        "colab": {
          "base_uri": "https://localhost:8080/",
          "height": 669
        },
        "id": "PjT4F49XfDaC",
        "outputId": "c2e3df6c-7a11-491b-ea4a-f9ddf7e57c06"
      },
      "execution_count": null,
      "outputs": [
        {
          "output_type": "stream",
          "name": "stdout",
          "text": [
            "Input: i hate you\n",
            "Predicted translation: no no thanks wait a minute\n"
          ]
        },
        {
          "output_type": "display_data",
          "data": {
            "text/plain": [
              "<Figure size 720x720 with 2 Axes>"
            ],
            "image/png": "[encoded data removed]"
          },
          "metadata": {
            "needs_background": "light"
          }
        },
        {
          "output_type": "execute_result",
          "data": {
            "text/plain": [
              "('I hate you', 'no no thanks wait a minute')"
            ]
          },
          "metadata": {},
          "execution_count": 51
        }
      ]
    },
    {
      "cell_type": "code",
      "source": [
        "scores = 0\n",
        "\n",
        "for i in range(1000):\n",
        "    pred,_,_ = predict(model_2,enc_sentences[i])\n",
        "    pred = pred.split()\n",
        "    ref = [target_sent[i].split(),]\n",
        "    scores += bleu.sentence_bleu(ref, pred)\n",
        "    \n",
        "print(\"Average belu score for 1000 test setences :\",scores/1000)"
      ],
      "metadata": {
        "colab": {
          "base_uri": "https://localhost:8080/"
        },
        "id": "KmlDz7CggB6I",
        "outputId": "91f44b6e-28ed-4899-a734-309241f0a230"
      },
      "execution_count": null,
      "outputs": [
        {
          "output_type": "stream",
          "name": "stdout",
          "text": [
            "Average belu score for 1000 test setences : 0.21770011696168143\n"
          ]
        }
      ]
    },
    {
      "cell_type": "code",
      "source": [
        ""
      ],
      "metadata": {
        "id": "__G_OrNVgwgm"
      },
      "execution_count": null,
      "outputs": []
    }
  ],
  "metadata": {
    "colab": {
      "collapsed_sections": [],
      "name": "Transformer_Base.ipynb",
      "provenance": []
    },
    "kernelspec": {
      "display_name": "Python 3",
      "language": "python",
      "name": "python3"
    },
    "language_info": {
      "codemirror_mode": {
        "name": "ipython",
        "version": 3
      },
      "file_extension": ".py",
      "mimetype": "text/x-python",
      "name": "python",
      "nbconvert_exporter": "python",
      "pygments_lexer": "ipython3",
      "version": "3.8.5"
    },
    "accelerator": "GPU"
  },
  "nbformat": 4,
  "nbformat_minor": 0
}